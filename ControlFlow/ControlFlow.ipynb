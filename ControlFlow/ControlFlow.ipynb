{
 "cells": [
  {
   "cell_type": "code",
   "execution_count": 1,
   "metadata": {},
   "outputs": [
    {
     "name": "stdout",
     "output_type": "stream",
     "text": [
      "Positive\n"
     ]
    }
   ],
   "source": [
    "# Control Flow <1>: Conditional Statements\n",
    "\n",
    "def positiveOrNegative(x):\n",
    "    if(x > 0):\n",
    "        return \"Positive\"\n",
    "    elif(x == 0):\n",
    "        return \"Zero\"\n",
    "    else:\n",
    "        return \"Negative\"\n",
    "    \n",
    "print(positiveOrNegative(10))"
   ]
  },
  {
   "cell_type": "code",
   "execution_count": 2,
   "metadata": {},
   "outputs": [
    {
     "name": "stdout",
     "output_type": "stream",
     "text": [
      "2\n",
      "5\n",
      "3\n",
      "2\n",
      "2\n"
     ]
    }
   ],
   "source": [
    "# Control Flow <2>: Conditional expressions\n",
    "\n",
    "a, b = 2, 5\n",
    "\n",
    "# Conditional expressions\n",
    "print(a if a < b else b)\n",
    "print(a if a > b else b)\n",
    "print(a if a > b else b if b == 4 else 3)\n",
    "\n",
    "# You can use tuple for selecting an item (if-False, if-True [condition])\n",
    "print((b, a) [a < b])\n",
    "\n",
    "# You can also use dictionary for selecting an item\n",
    "print({True: a, False: b} [a < b])"
   ]
  },
  {
   "cell_type": "code",
   "execution_count": 3,
   "metadata": {},
   "outputs": [
    {
     "name": "stdout",
     "output_type": "stream",
     "text": [
      "True\n",
      "True\n"
     ]
    }
   ],
   "source": [
    "# Control Flow <3>: For Loops \n",
    "\n",
    "def sumOfOddsFromMToN(m, n):\n",
    "    total = 0\n",
    "    # Note: range(x, y) includes x but excludes y\n",
    "    # e.g.) range(1, 5) --> 1, 2, 3, 4 (not 5)\n",
    "    for i in range(m, n+1):\n",
    "        if (i % 2 == 1):\n",
    "            total += i\n",
    "    return total\n",
    "\n",
    "print(sumOfOddsFromMToN(2, 12) == sumOfOddsFromMToN(3,11) == (3+5+7+9+11))\n",
    "\n",
    "def sumOfOddsFromMToN(m, n):\n",
    "    total = 0\n",
    "    # Note: range(start, end, step)\n",
    "    for i in range(n, m-1, -1):\n",
    "        if (i % 2 == 1):\n",
    "            total += i\n",
    "    return total\n",
    "\n",
    "print(sumOfOddsFromMToN(2, 12) == sumOfOddsFromMToN(3,11) == (3+5+7+9+11))"
   ]
  },
  {
   "cell_type": "code",
   "execution_count": 4,
   "metadata": {},
   "outputs": [
    {
     "name": "stdout",
     "output_type": "stream",
     "text": [
      "****\n",
      "****\n",
      "****\n",
      "****\n"
     ]
    }
   ],
   "source": [
    "# Control Flow <4>: Nested For Loops \n",
    "\n",
    "def printStarRectangle(n):\n",
    "    for row in range(n):\n",
    "        for col in range(n):\n",
    "            print(\"*\", end=\"\")\n",
    "        print()\n",
    "\n",
    "printStarRectangle(4)"
   ]
  },
  {
   "cell_type": "code",
   "execution_count": 5,
   "metadata": {},
   "outputs": [
    {
     "name": "stdout",
     "output_type": "stream",
     "text": [
      "\n",
      "* \n",
      "* * \n",
      "* * * \n",
      "* * * * \n"
     ]
    }
   ],
   "source": [
    "# Control Flow <5>: Nested For Loops (2)\n",
    "\n",
    "def printMysteryStarShape(n):\n",
    "    for row in range(n):\n",
    "        for col in range(row):\n",
    "            print(\"*\", end=\" \")\n",
    "        print()\n",
    "\n",
    "printMysteryStarShape(5)"
   ]
  },
  {
   "cell_type": "code",
   "execution_count": 6,
   "metadata": {},
   "outputs": [
    {
     "name": "stdout",
     "output_type": "stream",
     "text": [
      "Multiples of 3 or 8: 0 3 6 8 9 12 15 16 18 21 "
     ]
    }
   ],
   "source": [
    "# Control Flow <6>: While Loops\n",
    "\n",
    "def isMultipleOf3or8(x):\n",
    "    return ((x % 3) == 0) or ((x % 8) == 0)\n",
    "\n",
    "def nthMultipleOf3or8(n):\n",
    "    found = 0\n",
    "    guess = -1\n",
    "    while (found <= n):\n",
    "        guess += 1\n",
    "        if (isMultipleOf3or8(guess)):\n",
    "            found += 1\n",
    "    return guess\n",
    "\n",
    "print(\"Multiples of 3 or 8: \", end=\"\")\n",
    "for n in range(10):\n",
    "    print(nthMultipleOf3or8(n), end=\" \")"
   ]
  },
  {
   "cell_type": "code",
   "execution_count": 7,
   "metadata": {},
   "outputs": [
    {
     "name": "stdout",
     "output_type": "stream",
     "text": [
      "1 2 4 5 7 8 10 11 13 14 16 "
     ]
    }
   ],
   "source": [
    "# Control Flow <7>: break, continue, and pass\n",
    "\n",
    "for n in range(100):\n",
    "    if (n % 3 == 0):\n",
    "        continue\n",
    "    elif (n == 17):\n",
    "        break\n",
    "    else:\n",
    "        pass\n",
    "    print(n, end=\" \")"
   ]
  },
  {
   "cell_type": "code",
   "execution_count": 8,
   "metadata": {},
   "outputs": [
    {
     "name": "stdout",
     "output_type": "stream",
     "text": [
      "Loop terminates with break.\n"
     ]
    }
   ],
   "source": [
    "# Control Flow <8>: for-else Statements \n",
    "\n",
    "for i in range(10):\n",
    "    if i == 6:\n",
    "        print(\"Loop terminates with break.\")\n",
    "        break\n",
    "else:\n",
    "    print(\"Loop terminates without break.\")"
   ]
  },
  {
   "cell_type": "code",
   "execution_count": 9,
   "metadata": {},
   "outputs": [
    {
     "name": "stdout",
     "output_type": "stream",
     "text": [
      "0 0\n",
      "0 1\n",
      "0 2\n",
      "0 3\n",
      "1 0\n",
      "1 1\n",
      "1 2\n",
      "1 3\n",
      "2 0\n",
      "2 1\n",
      "2 2\n",
      "Quit the inner loop.\n",
      "Quit the outer loop.\n"
     ]
    }
   ],
   "source": [
    "# Control Flow <9>: for-else-continue Statements\n",
    "\n",
    "for i in range(4):\n",
    "    for j in range(4):\n",
    "        print(i, j)\n",
    "        if(i == 2 and j == 2):\n",
    "            print(\"Quit the inner loop.\")\n",
    "            break\n",
    "    else:\n",
    "        continue\n",
    "    print(\"Quit the outer loop.\")\n",
    "    break"
   ]
  },
  {
   "cell_type": "code",
   "execution_count": 10,
   "metadata": {},
   "outputs": [
    {
     "ename": "NameError",
     "evalue": "name 'x' is not defined",
     "output_type": "error",
     "traceback": [
      "\u001b[0;31m---------------------------------------------------------------------------\u001b[0m",
      "\u001b[0;31mNameError\u001b[0m                                 Traceback (most recent call last)",
      "\u001b[0;32m<ipython-input-10-a279775aaa02>\u001b[0m in \u001b[0;36m<module>\u001b[0;34m()\u001b[0m\n\u001b[1;32m      1\u001b[0m \u001b[0;31m# Control Flow <10>: Exceptions\u001b[0m\u001b[0;34m\u001b[0m\u001b[0;34m\u001b[0m\u001b[0m\n\u001b[1;32m      2\u001b[0m \u001b[0;34m\u001b[0m\u001b[0m\n\u001b[0;32m----> 3\u001b[0;31m \u001b[0mprint\u001b[0m\u001b[0;34m(\u001b[0m\u001b[0;36m3\u001b[0m \u001b[0;34m-\u001b[0m \u001b[0mx\u001b[0m \u001b[0;34m*\u001b[0m \u001b[0;36m2\u001b[0m\u001b[0;34m)\u001b[0m\u001b[0;34m\u001b[0m\u001b[0m\n\u001b[0m",
      "\u001b[0;31mNameError\u001b[0m: name 'x' is not defined"
     ]
    }
   ],
   "source": [
    "# Control Flow <10>: Exceptions\n",
    "\n",
    "print(3 - x * 2)"
   ]
  },
  {
   "cell_type": "code",
   "execution_count": 11,
   "metadata": {},
   "outputs": [
    {
     "name": "stdout",
     "output_type": "stream",
     "text": [
      "division by zero\n",
      "<class 'ZeroDivisionError'>\n"
     ]
    }
   ],
   "source": [
    "# Control Flow <11>: Exception Handling (1) \n",
    "\n",
    "try:\n",
    "    print(1 + 5 / 0)\n",
    "except ZeroDivisionError as e:\n",
    "    print(e)\n",
    "    print(type(e))"
   ]
  },
  {
   "cell_type": "code",
   "execution_count": 12,
   "metadata": {},
   "outputs": [
    {
     "name": "stdout",
     "output_type": "stream",
     "text": [
      "Result:  4.0\n",
      "Done without any errors!\n",
      "Finally done!\n",
      "\n",
      "division by zero\n",
      "Finally done!\n"
     ]
    }
   ],
   "source": [
    "# Control Flow <12>: Exception Handling (2) \n",
    "\n",
    "def div(a, b):\n",
    "    try:\n",
    "        print(\"Result: \", a / b)\n",
    "    except ZeroDivisionError as e:\n",
    "        print(e)\n",
    "    else:\n",
    "        print('Done without any errors!')\n",
    "    finally:\n",
    "        print('Finally done!')\n",
    "\n",
    "div(8, 2)\n",
    "print()\n",
    "div(7, 0)"
   ]
  },
  {
   "cell_type": "code",
   "execution_count": 13,
   "metadata": {},
   "outputs": [
    {
     "name": "stdout",
     "output_type": "stream",
     "text": [
      "Testing onesDigit()... Passed!\n"
     ]
    }
   ],
   "source": [
    "# Control Flow <13>: Exception Handling (3) \n",
    "\n",
    "def onesDigit(n):\n",
    "    return n % 10\n",
    "\n",
    "def testOnesDigit():\n",
    "    print(\"Testing onesDigit()... \", end=\"\")\n",
    "    assert(onesDigit(5) == 5)\n",
    "    assert(onesDigit(123) == 3)\n",
    "    assert(onesDigit(100) == 0)\n",
    "    assert(onesDigit(999) == 9)\n",
    "    print(\"Passed!\")\n",
    "\n",
    "testOnesDigit() "
   ]
  }
 ],
 "metadata": {
  "kernelspec": {
   "display_name": "Python 3",
   "language": "python",
   "name": "python3"
  },
  "language_info": {
   "codemirror_mode": {
    "name": "ipython",
    "version": 3
   },
   "file_extension": ".py",
   "mimetype": "text/x-python",
   "name": "python",
   "nbconvert_exporter": "python",
   "pygments_lexer": "ipython3",
   "version": "3.6.4"
  }
 },
 "nbformat": 4,
 "nbformat_minor": 2
}
