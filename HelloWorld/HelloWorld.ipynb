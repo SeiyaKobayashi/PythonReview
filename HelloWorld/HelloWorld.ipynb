{
 "cells": [
  {
   "cell_type": "code",
   "execution_count": 1,
   "metadata": {},
   "outputs": [
    {
     "name": "stdout",
     "output_type": "stream",
     "text": [
      "Hello world!\n",
      "Hello world!\n",
      "Hello world!\n",
      "Hello world!\n"
     ]
    }
   ],
   "source": [
    "# Hello world\n",
    "\n",
    "# Basic \"Hello world!\"\n",
    "print(\"Hello world!\")\n",
    "\n",
    "# Two strings seperated by a comma \n",
    "print(\"Hello\", \"world!\")\n",
    "\n",
    "# String concatenation\n",
    "print(\"Hello \" + \"world!\")\n",
    "\n",
    "# Two print statements connected with \"end\"\n",
    "print(\"Hello\", end=\" \")\n",
    "print(\"world!\")"
   ]
  }
 ],
 "metadata": {
  "kernelspec": {
   "display_name": "Python 3",
   "language": "python",
   "name": "python3"
  },
  "language_info": {
   "codemirror_mode": {
    "name": "ipython",
    "version": 3
   },
   "file_extension": ".py",
   "mimetype": "text/x-python",
   "name": "python",
   "nbconvert_exporter": "python",
   "pygments_lexer": "ipython3",
   "version": "3.6.4"
  }
 },
 "nbformat": 4,
 "nbformat_minor": 2
}
