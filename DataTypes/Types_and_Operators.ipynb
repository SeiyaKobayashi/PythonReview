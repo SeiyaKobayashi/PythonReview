{
 "cells": [
  {
   "cell_type": "code",
   "execution_count": 1,
   "metadata": {},
   "outputs": [
    {
     "name": "stdout",
     "output_type": "stream",
     "text": [
      "<class 'int'>\n",
      "<class 'int'>\n",
      "<class 'float'>\n",
      "<class 'float'>\n",
      "<class 'bool'>\n",
      "<class 'bool'>\n",
      "<class 'str'>\n",
      "<class 'str'>\n",
      "<class 'list'>\n",
      "<class 'list'>\n",
      "<class 'tuple'>\n",
      "<class 'tuple'>\n",
      "<class 'set'>\n",
      "<class 'set'>\n",
      "<class 'dict'>\n",
      "<class 'dict'>\n",
      "<class 'type'>\n",
      "<class 'NoneType'>\n"
     ]
    }
   ],
   "source": [
    "# Data Types and Operators <1>\n",
    "\n",
    "print(type(2))           # int (integer)\n",
    "print(type(-19))         # int (integer)\n",
    "\n",
    "print(type(1.2))         # float (floating-point number)\n",
    "print(type(-12.45))      # float (floating-point number)\n",
    "\n",
    "print(type(True))        # bool (boolean)\n",
    "print(type(1.4 < 4.9))   # bool (boolean)\n",
    "\n",
    "print(type(\"Hello\"))     # str (string / text)\n",
    "print(type(\"1.2\"))       # str (string / text)\n",
    "\n",
    "print(type([1,2,3]))           # list\n",
    "print(type([\"a\",\"b\",\"c\"]))     # list\n",
    "\n",
    "print(type((1,2,3)))           # tuple\n",
    "print(type((\"a\",\"b\",\"c\")))     # tuple\n",
    "\n",
    "print(type({1,2,3}))     # set\n",
    "print(type({3,1,2}))     # set\n",
    "\n",
    "print(type({1:34}))      # dict (dictionary / map / hash table)\n",
    "print(type({0:\"a\"}))     # dict (dictionary / map / hash table)\n",
    "\n",
    "print(type(type(10)))    # type\n",
    "\n",
    "print(type(None))        # None"
   ]
  },
  {
   "cell_type": "code",
   "execution_count": 2,
   "metadata": {},
   "outputs": [
    {
     "name": "stdout",
     "output_type": "stream",
     "text": [
      "Arithmetic operators: \n",
      "\n",
      "1 + 1 = 2\n",
      "3 - 2 = 1\n",
      "2 * 4 = 8\n",
      "10 / 4 = 2.5\n",
      "10 // 4 = 2\n",
      "-1 // 3 = -1\n",
      "3 ** 2 = 9\n",
      "6 % 3 = 0\n",
      "7 % -2 = -1\n",
      "0 % 5 = 0\n"
     ]
    }
   ],
   "source": [
    "# Data Types and Operators <2>\n",
    "\n",
    "print(\"Arithmetic operators: \\n\")\n",
    "print(\"1 + 1 =\", 1 + 1)        # addition\n",
    "print(\"3 - 2 =\", 3 - 2)        # subtraction\n",
    "print(\"2 * 4 =\", 2 * 4)        # multiplication\n",
    "print(\"10 / 4 =\", 10 / 4)      # float (normal) division\n",
    "print(\"10 // 4 =\", 10 // 4)    # integer division\n",
    "print(\"-1 // 3 =\", -1 // 3)    # what if numerator is negative (for integer division)?\n",
    "# print(\"4 / 0 = \", 4 / 0)     # division by 0 is undefined (error)\n",
    "# print(\"4 // 0 =\", 4 // 0)    # division by 0 is undefined (error)\n",
    "print(\"3 ** 2 =\", 3 ** 2)      # exponentiation\n",
    "print(\"6 % 3 =\", 6 % 3)        # remainder\n",
    "print(\"7 % -2 =\", 7 % -2)      # remainder (sign of the result matches sign of the denominator)\n",
    "print(\"0 % 5 =\", 0 % 5)\n",
    "# print(\"5 % 0 =\", 5 % 0)      # modulo by 0 is undefined (error)"
   ]
  },
  {
   "cell_type": "code",
   "execution_count": 3,
   "metadata": {},
   "outputs": [
    {
     "name": "stdout",
     "output_type": "stream",
     "text": [
      "Precedence: \n",
      "\n",
      "2 + 3 + 5 = 17\n",
      "4 + 7 % 3 = 5\n",
      "2 ** 3 * 4 = 32\n",
      "\n",
      "Associativity: \n",
      "\n",
      "6 - 4 - 2 = 0\n",
      "6 - (4 - 2) = 4\n",
      "4 ** 3 ** 2 = 262144\n",
      "(4 ** 3) ** 2 = 4096\n"
     ]
    }
   ],
   "source": [
    "# Data Types and Operators <3>\n",
    "\n",
    "print(\"Precedence: \\n\")\n",
    "print(\"2 + 3 + 5 =\", 2 + 3 * 5)          # prints 17 (not 25)\n",
    "print(\"4 + 7 % 3 =\", 4 + 7 % 3)          # prints  5 (not 2)\n",
    "print(\"2 ** 3 * 4 =\", 2 ** 3 * 4)        # prints 32 (not 4096)\n",
    "\n",
    "print()\n",
    "\n",
    "print(\"Associativity: \\n\")\n",
    "print(\"6 - 4 - 2 =\", 6 - 4 - 2)          # prints 0 (not 4)\n",
    "print(\"6 - (4 - 2) =\", 6 - (4 - 2))      # prints 4 (not 0)\n",
    "print(\"4 ** 3 ** 2 =\", 4 ** 3 ** 2)      # prints 262144 (not 4096)\n",
    "print(\"(4 ** 3) ** 2 =\", (4 ** 3) ** 2)  # prints 4096 (not 262144)"
   ]
  }
 ],
 "metadata": {
  "kernelspec": {
   "display_name": "Python 3",
   "language": "python",
   "name": "python3"
  },
  "language_info": {
   "codemirror_mode": {
    "name": "ipython",
    "version": 3
   },
   "file_extension": ".py",
   "mimetype": "text/x-python",
   "name": "python",
   "nbconvert_exporter": "python",
   "pygments_lexer": "ipython3",
   "version": "3.6.4"
  }
 },
 "nbformat": 4,
 "nbformat_minor": 2
}
