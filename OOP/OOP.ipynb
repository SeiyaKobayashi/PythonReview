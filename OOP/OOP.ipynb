{
 "cells": [
  {
   "cell_type": "code",
   "execution_count": 1,
   "metadata": {},
   "outputs": [
    {
     "name": "stdout",
     "output_type": "stream",
     "text": [
      "user1:  <__main__.User object at 0x10d61f898>\n",
      "user1:  <class '__main__.User'>\n",
      "user1(username):  David\n",
      "user1(age)     :  25\n",
      "\n",
      "user2:  <__main__.User object at 0x10d61f8d0>\n",
      "user2:  <class '__main__.User'>\n",
      "user2(username):  Mark\n",
      "user2(password):  678910\n"
     ]
    }
   ],
   "source": [
    "# Classes and Instances <1>: Definitions\n",
    "\n",
    "class User:\n",
    "    \n",
    "    def __init__(self, username, age, email, password):\n",
    "        self.username = username\n",
    "        self.age      = age\n",
    "        self.email    = email\n",
    "        self.password = password\n",
    "    \n",
    "user1 = User(\"David\", 25, \"sample.com\", 12345)\n",
    "user2 = User(\"Mark\", 22, \"sample2.com\", 678910)\n",
    "\n",
    "print(\"user1: \", user1)\n",
    "print(\"user1: \", type(user1))\n",
    "print(\"user1(username): \", user1.username)\n",
    "print(\"user1(age)     : \", user1.age)\n",
    "print()\n",
    "print(\"user2: \", user2)\n",
    "print(\"user2: \", type(user2))\n",
    "print(\"user2(username): \", user2.username)\n",
    "print(\"user2(password): \", user2.password)"
   ]
  },
  {
   "cell_type": "code",
   "execution_count": 2,
   "metadata": {},
   "outputs": [
    {
     "name": "stdout",
     "output_type": "stream",
     "text": [
      "I'm majoring in CS.\n",
      "I'm majoring in CS.\n",
      "I'm majoring in CS.\n",
      "\n",
      "I'm majoring in CS.\n",
      "I'm majoring in CS.\n",
      "\n",
      "I'm majoring in CS.\n",
      "I'm majoring in CS.\n",
      "I'm majoring in CS.\n",
      "\n",
      "Hello!\n",
      "Hello!\n",
      "Hello!\n"
     ]
    }
   ],
   "source": [
    "# Classes and Instances <2>: Class variables/methods, Instance variables/methods, and Static methods\n",
    "\n",
    "class CSStudent:\n",
    "    major = \"CS\"                            # Class variable\n",
    "    \n",
    "    def __init__(self, name, classyear):\n",
    "        self.name = name                    # Instance variable\n",
    "        self.classyear = classyear          # Instance variable\n",
    "      \n",
    "    @classmethod\n",
    "    def returnMajor(cls):\n",
    "        # cls.name/cls.classyear doesn't work here b.c. they're instance variables \n",
    "        return \"I'm majoring in \" + cls.major + \".\"\n",
    "    \n",
    "    def returnMajor_2(self): \n",
    "        return \"I'm majoring in \" + self.major + \".\"\n",
    "\n",
    "    @staticmethod\n",
    "    def returnMajor_3():\n",
    "        return \"I'm majoring in \" + CSStudent.major + \".\"\n",
    "    \n",
    "    @staticmethod\n",
    "    def returnHello():\n",
    "        return \"Hello!\"\n",
    "\n",
    "a = CSStudent(\"John\", 2020)\n",
    "b = CSStudent(\"Jenny\", 2019)\n",
    "\n",
    "print(CSStudent.returnMajor())\n",
    "print(a.returnMajor())\n",
    "print(b.returnMajor(), end=\"\\n\\n\")\n",
    "\n",
    "# print(CSStudent.returnMajor_2())          # Error\n",
    "print(a.returnMajor_2())\n",
    "print(b.returnMajor_2(), end=\"\\n\\n\")\n",
    "\n",
    "print(CSStudent.returnMajor_3())\n",
    "print(a.returnMajor_3())\n",
    "print(b.returnMajor_3(), end=\"\\n\\n\")\n",
    "\n",
    "print(CSStudent.returnHello())\n",
    "print(a.returnHello())\n",
    "print(b.returnHello())\n",
    "# print(returnHello())                      # Error"
   ]
  },
  {
   "cell_type": "code",
   "execution_count": 3,
   "metadata": {},
   "outputs": [
    {
     "name": "stdout",
     "output_type": "stream",
     "text": [
      "Hello, I am a useless function!\n",
      "\n",
      "Waiting for f()...\n",
      "Hello, I am a useless function!\n",
      "Executed f()!\n"
     ]
    }
   ],
   "source": [
    "# Decorators <1>\n",
    "\n",
    "def decoratorSample(f):\n",
    "    def wrapTheFunction():\n",
    "        print(\"Waiting for f()...\")\n",
    "        f()\n",
    "        print(\"Executed f()!\")\n",
    "\n",
    "    return wrapTheFunction\n",
    "\n",
    "def fToBeDecorated():\n",
    "    print(\"Hello, I am a useless function!\")\n",
    "\n",
    "fToBeDecorated()\n",
    "print()\n",
    "fToBeDecorated = decoratorSample(fToBeDecorated)\n",
    "fToBeDecorated()"
   ]
  },
  {
   "cell_type": "code",
   "execution_count": 4,
   "metadata": {},
   "outputs": [
    {
     "name": "stdout",
     "output_type": "stream",
     "text": [
      "Waiting for f()...\n",
      "Hello, I am a useless function!\n",
      "Executed f()!\n"
     ]
    }
   ],
   "source": [
    "# Decorators <2>\n",
    "\n",
    "@decoratorSample\n",
    "def fToBeDecorated():\n",
    "    print(\"Hello, I am a useless function!\")\n",
    "\n",
    "fToBeDecorated()"
   ]
  },
  {
   "cell_type": "code",
   "execution_count": 5,
   "metadata": {},
   "outputs": [
    {
     "name": "stdout",
     "output_type": "stream",
     "text": [
      "(1,)\n",
      "(1, 2, 3)\n"
     ]
    }
   ],
   "source": [
    "# *args & **kwargs <1>\n",
    "\n",
    "def f(*args):\n",
    "    return args\n",
    "\n",
    "print(f(1))         # Output: 1\n",
    "print(f(1, 2, 3))   # Error"
   ]
  },
  {
   "cell_type": "code",
   "execution_count": 6,
   "metadata": {},
   "outputs": [
    {
     "name": "stdout",
     "output_type": "stream",
     "text": [
      "{'l1': 'Python'}\n",
      "{'l1': 'Python', 'lg2': 'Java'}\n"
     ]
    }
   ],
   "source": [
    "# *args & **kwargs <2>\n",
    "\n",
    "def f(**x):\n",
    "    return x\n",
    "\n",
    "print(f(l1 = \"Python\")) \n",
    "print(f(l1 = \"Python\", lg2 = \"Java\")) "
   ]
  },
  {
   "cell_type": "code",
   "execution_count": 7,
   "metadata": {},
   "outputs": [
    {
     "name": "stdout",
     "output_type": "stream",
     "text": [
      "10\n",
      "10\n"
     ]
    }
   ],
   "source": [
    "# *args & **kwargs <3>\n",
    "\n",
    "def add(*x):\n",
    "    total = 0\n",
    "    for i in x:\n",
    "        total += i\n",
    "    return total\n",
    "    \n",
    "lst = [1, 2, 3, 4]\n",
    "print(add(lst[0], lst[1], lst[2], lst[3]))\n",
    "print(add(*lst))"
   ]
  },
  {
   "cell_type": "code",
   "execution_count": 8,
   "metadata": {},
   "outputs": [
    {
     "name": "stdout",
     "output_type": "stream",
     "text": [
      "7\n",
      "7\n"
     ]
    }
   ],
   "source": [
    "# *args & **kwargs <4>\n",
    "\n",
    "def add(**x):\n",
    "    total = 0\n",
    "    for i in x:\n",
    "        total += x[i]\n",
    "    return total\n",
    "\n",
    "dct = {\"a\": 2, \"b\": 5}\n",
    "print(add(a = 2, b = 5))\n",
    "print(add(**dct))"
   ]
  },
  {
   "cell_type": "code",
   "execution_count": 9,
   "metadata": {},
   "outputs": [
    {
     "name": "stdout",
     "output_type": "stream",
     "text": [
      "Arguments: (1, 9), {}\n",
      "Result:  10\n",
      "Arguments: (0,), {}\n",
      "Result:  2\n",
      "Arguments: (), {}\n",
      "Result:  8\n"
     ]
    }
   ],
   "source": [
    "# *args & **kwargs <5>\n",
    "\n",
    "def logger(f):\n",
    "    def innerLogger(*args, **kwargs):\n",
    "        print(\"Arguments: %s, %s\" % (args, kwargs))\n",
    "        print(\"Result: \", f(*args, **kwargs))\n",
    "    return innerLogger\n",
    "\n",
    "@logger\n",
    "def f1(x, y = 2):\n",
    "    return x + y\n",
    "\n",
    "@logger\n",
    "def f2():\n",
    "    return 8\n",
    "\n",
    "f1(1, 9)\n",
    "f1(0)\n",
    "f2()"
   ]
  },
  {
   "cell_type": "code",
   "execution_count": 10,
   "metadata": {},
   "outputs": [
    {
     "name": "stdout",
     "output_type": "stream",
     "text": [
      "Arguments: (1, 9), {}\n",
      "Result:  10\n",
      "Arguments: (0,), {}\n",
      "Result:  2\n",
      "Arguments: (), {}\n",
      "Result:  8\n"
     ]
    }
   ],
   "source": [
    "# *args & **kwargs <6>\n",
    "\n",
    "def logger(f):\n",
    "    def innerLogger(*args, **kwargs):\n",
    "        print(\"Arguments: %s, %s\" % (args, kwargs))\n",
    "        print(\"Result: \", f(*args, **kwargs))\n",
    "    return innerLogger\n",
    "\n",
    "def f1(x, y = 2):\n",
    "    return x + y\n",
    "\n",
    "def f2():\n",
    "    return 8\n",
    "\n",
    "f1 = logger(f1)\n",
    "f2 = logger(f2)\n",
    "f1(1, 9)\n",
    "f1(0)\n",
    "f2()"
   ]
  },
  {
   "cell_type": "code",
   "execution_count": 11,
   "metadata": {},
   "outputs": [
    {
     "name": "stdout",
     "output_type": "stream",
     "text": [
      "['__class__', '__delattr__', '__dict__', '__dir__', '__doc__', '__eq__', '__format__', '__ge__', '__getattribute__', '__gt__', '__hash__', '__init__', '__init_subclass__', '__le__', '__lt__', '__module__', '__ne__', '__new__', '__reduce__', '__reduce_ex__', '__repr__', '__setattr__', '__sizeof__', '__str__', '__subclasshook__', '__weakref__']\n",
      "\n",
      "['__class__', '__delattr__', '__dict__', '__dir__', '__doc__', '__eq__', '__format__', '__ge__', '__getattribute__', '__gt__', '__hash__', '__init__', '__init_subclass__', '__le__', '__lt__', '__module__', '__ne__', '__new__', '__reduce__', '__reduce_ex__', '__repr__', '__setattr__', '__sizeof__', '__str__', '__subclasshook__', '__weakref__', 'x']\n",
      "\n",
      "<class '__main__.A'>\n",
      "{'x': 3}\n",
      "\n",
      "    Hello, I'm so-called docstring!\n",
      "    \n"
     ]
    }
   ],
   "source": [
    "# Magic (Dunder) Methods <1> \n",
    "\n",
    "class A():\n",
    "    \"\"\"\n",
    "    Hello, I'm so-called docstring!\n",
    "    \"\"\"\n",
    "    def __init__(self, x):\n",
    "        self.x = x\n",
    "\n",
    "a = A(3)\n",
    "print(dir(A))\n",
    "print()\n",
    "print(dir(a))\n",
    "print()\n",
    "print(a.__class__)\n",
    "print(a.__dict__)\n",
    "print(a.__doc__)"
   ]
  },
  {
   "cell_type": "code",
   "execution_count": 12,
   "metadata": {},
   "outputs": [
    {
     "name": "stdout",
     "output_type": "stream",
     "text": [
      "True\n",
      "False\n",
      "A(x=5)\n",
      "True\n",
      "15\n"
     ]
    }
   ],
   "source": [
    "# Magic (Dunder) Methods <2> \n",
    "\n",
    "class A(object):\n",
    "    \n",
    "    def __init__(self, x):\n",
    "        self.x = x\n",
    "        \n",
    "    def __eq__(self, other):\n",
    "        return (isinstance(other, A) and (self.x == other.x))\n",
    "    \n",
    "    def __repr__(self):\n",
    "        return \"A(x=%d)\" % self.x\n",
    "    \n",
    "    def __hash__(self):\n",
    "        return hash(self.x)\n",
    "    \n",
    "a1 = A(5)\n",
    "a2 = A(5)\n",
    "\n",
    "print(a1 == a2)\n",
    "print(a1 == 9)\n",
    "\n",
    "print(a1)\n",
    "\n",
    "s = set()\n",
    "s.add(a1)\n",
    "print(a1 in s)\n",
    "\n",
    "d = dict()\n",
    "d[a2] = 15\n",
    "print(d[a2])"
   ]
  },
  {
   "cell_type": "code",
   "execution_count": 13,
   "metadata": {},
   "outputs": [
    {
     "name": "stdout",
     "output_type": "stream",
     "text": [
      "25\n",
      "28\n",
      "16\n",
      "27\n",
      "9\n"
     ]
    }
   ],
   "source": [
    "# Inheritance <1>: super()\n",
    "\n",
    "# Class `A` is inherited from Class `object` (enables to use super() keyword)\n",
    "class A(object):\n",
    "    def __init__(self, x):\n",
    "        self.x = x\n",
    "    def f(self):\n",
    "        return self.x * self.x\n",
    "\n",
    "# Class `B` is inherited from Class `A`\n",
    "class B(A):\n",
    "    def __init__(self, x, y):\n",
    "        super().__init__(x)\n",
    "        self.y = y\n",
    "    def g(self):\n",
    "        return self.x * self.y\n",
    "    \n",
    "# Class `C` is also inherited from Class `A`\n",
    "class C(A):\n",
    "    def __init__(self, x, z):\n",
    "        super().__init__(x)\n",
    "        self.z = z\n",
    "    def h(self):\n",
    "        return self.x * self.z\n",
    "\n",
    "print(A(5).f())\n",
    "print(B(4, 7).g())\n",
    "print(B(4, 7).f())\n",
    "print(C(3, 9).h())\n",
    "print(C(3, 9).f())"
   ]
  },
  {
   "cell_type": "code",
   "execution_count": 14,
   "metadata": {},
   "outputs": [
    {
     "name": "stdout",
     "output_type": "stream",
     "text": [
      "9\n",
      "8\n",
      "36\n"
     ]
    }
   ],
   "source": [
    "# Inheritance <2>: override & overload\n",
    "\n",
    "class A(object):\n",
    "    def __init__(self, x):\n",
    "        self.x = x\n",
    "    def f(self):\n",
    "        return self.x * self.x\n",
    "\n",
    "class B(A):\n",
    "    def __init__(self, x, y):\n",
    "        super().__init__(x)\n",
    "        self.y = y\n",
    "    def f(self):\n",
    "        return 2 ** self.x\n",
    "    def g(self):\n",
    "        return self.x * self.y\n",
    "\n",
    "class C(A):\n",
    "    def __init__(self, x, z):\n",
    "        super().__init__(x)\n",
    "        self.z = z\n",
    "    def f(self, n):\n",
    "        return self.x * 3 * n\n",
    "    def h(self):\n",
    "        return self.x * self.z\n",
    "\n",
    "a = A(3)\n",
    "b = B(3, 4)\n",
    "c = C(3, 6)\n",
    "\n",
    "print(a.f())\n",
    "print(b.f())\n",
    "print(c.f(4))"
   ]
  },
  {
   "cell_type": "code",
   "execution_count": 15,
   "metadata": {},
   "outputs": [
    {
     "name": "stdout",
     "output_type": "stream",
     "text": [
      "9\n",
      "8\n",
      "36\n"
     ]
    }
   ],
   "source": [
    "# Inheritance <3>: Duck Typing\n",
    "\n",
    "class A(object):\n",
    "    def __init__(self, x):\n",
    "        self.x = x\n",
    "    def f(self):\n",
    "        return self.x * self.x\n",
    "\n",
    "class B(A):\n",
    "    def __init__(self, x, y):\n",
    "        super().__init__(x)\n",
    "        self.y = y\n",
    "    def f(self):\n",
    "        return 2 ** self.x\n",
    "    def g(self):\n",
    "        return self.x * self.y\n",
    "\n",
    "class C():\n",
    "    def __init__(self, x, z):\n",
    "        self.x = x\n",
    "        self.z = z\n",
    "    def f(self, n):\n",
    "        return self.x * 3 * n\n",
    "    def h(self):\n",
    "        return self.x * self.z\n",
    "\n",
    "a = A(3)\n",
    "b = B(3, 4)\n",
    "c = C(3, 6)\n",
    "\n",
    "print(a.f())\n",
    "print(b.f())\n",
    "print(c.f(4))"
   ]
  },
  {
   "cell_type": "code",
   "execution_count": 16,
   "metadata": {},
   "outputs": [
    {
     "name": "stdout",
     "output_type": "stream",
     "text": [
      "<class '__main__.Car'>\n",
      "<class 'abc.ABCMeta'>\n",
      "<class 'type'>\n",
      "Car moves.\n",
      "Car stops.\n"
     ]
    }
   ],
   "source": [
    "# Inheritance <4>: Abstract class\n",
    "\n",
    "from abc import ABCMeta, abstractmethod\n",
    "\n",
    "# Abstract class `Vihecle`\n",
    "class Vehicle(metaclass=ABCMeta):\n",
    "    @abstractmethod\n",
    "    def move(self):\n",
    "        pass\n",
    "    @abstractmethod\n",
    "    def stop(self):\n",
    "        pass\n",
    "\n",
    "# Class `Car` inherited from abstract class `Vihecle`\n",
    "class Car(Vehicle):\n",
    "    def move(self):\n",
    "        print(\"Car moves.\")\n",
    "    def stop(self):\n",
    "        print(\"Car stops.\")\n",
    "\n",
    "c1 = Car()\n",
    "print(type(c1))\n",
    "print(type(Car))\n",
    "print(type(ABCMeta))\n",
    "c1.move()\n",
    "c1.stop()"
   ]
  },
  {
   "cell_type": "code",
   "execution_count": 17,
   "metadata": {},
   "outputs": [
    {
     "name": "stdout",
     "output_type": "stream",
     "text": [
      "Engine started.\n",
      "Engine stopped.\n"
     ]
    }
   ],
   "source": [
    "# Inheritance <5>: Composition\n",
    "\n",
    "class Car(object):\n",
    "\n",
    "    def __init__(self):\n",
    "        self.engine = Engine()\n",
    "\n",
    "    def drive(self):\n",
    "        self.engine.start()\n",
    "        self.engine.stop()\n",
    "\n",
    "class Engine():\n",
    "    \n",
    "    def start(self):\n",
    "        print (\"Engine started.\")\n",
    "\n",
    "    def stop(self):\n",
    "        print (\"Engine stopped.\")\n",
    "\n",
    "car = Car()\n",
    "car.drive()"
   ]
  },
  {
   "cell_type": "code",
   "execution_count": 18,
   "metadata": {},
   "outputs": [
    {
     "name": "stdout",
     "output_type": "stream",
     "text": [
      "<class 'type'>\n",
      "<class 'type'>\n",
      "(<class 'object'>,)\n",
      "\n",
      "<class 'type'>\n",
      "(<class 'object'>,)\n",
      "\n",
      "<class 'type'>\n",
      "()\n"
     ]
    }
   ],
   "source": [
    "# Inheritance <6>: Metaclasses <1>\n",
    "\n",
    "print(type(int))\n",
    "print(int.__class__)\n",
    "print(int.__bases__)\n",
    "\n",
    "print()\n",
    "\n",
    "print(type(type))\n",
    "print(type.__bases__)\n",
    "\n",
    "print()\n",
    "\n",
    "print(type(object))\n",
    "print(object.__bases__)"
   ]
  },
  {
   "cell_type": "code",
   "execution_count": 4,
   "metadata": {},
   "outputs": [
    {
     "name": "stdout",
     "output_type": "stream",
     "text": [
      "<class 'type'>\n",
      "<class '__main__.Test'>\n",
      "This is an inherited method!\n",
      "This is a test class method!\n",
      "hello\n"
     ]
    }
   ],
   "source": [
    "# Inheritance <7>: Metaclasses <2>\n",
    "\n",
    "#Base class\n",
    "class Base: \n",
    "    def f(self): \n",
    "        print(\"This is an inherited method!\")\n",
    "        \n",
    "def testMethod(self): \n",
    "    print(\"This is a test class method!\") \n",
    "\n",
    "# Create `Test` class using type()\n",
    "# type() with one argument -> returns the type of the object\n",
    "# type() with three arguments -> creates a class\n",
    "# --> type(classname, (base classes), class dictionary)\n",
    "Test = type(\"Test\", (Base, ), dict(x=\"hello\", sampleMethod=testMethod)) \n",
    "print(type(Test))\n",
    "\n",
    "t = Test()\n",
    "print(type(t))\n",
    "\n",
    "t.f()\n",
    "t.sampleMethod()\n",
    "print(t.x) "
   ]
  },
  {
   "cell_type": "code",
   "execution_count": 5,
   "metadata": {},
   "outputs": [
    {
     "ename": "TypeError",
     "evalue": "Multiple inheritance is not allowed!",
     "output_type": "error",
     "traceback": [
      "\u001b[0;31m---------------------------------------------------------------------------\u001b[0m",
      "\u001b[0;31mTypeError\u001b[0m                                 Traceback (most recent call last)",
      "\u001b[0;32m<ipython-input-5-5177d7a4ef66>\u001b[0m in \u001b[0;36m<module>\u001b[0;34m()\u001b[0m\n\u001b[1;32m     17\u001b[0m     \u001b[0;32mpass\u001b[0m\u001b[0;34m\u001b[0m\u001b[0m\n\u001b[1;32m     18\u001b[0m \u001b[0;34m\u001b[0m\u001b[0m\n\u001b[0;32m---> 19\u001b[0;31m \u001b[0;32mclass\u001b[0m \u001b[0mB\u001b[0m\u001b[0;34m(\u001b[0m\u001b[0mBase\u001b[0m\u001b[0;34m,\u001b[0m \u001b[0mA\u001b[0m\u001b[0;34m)\u001b[0m\u001b[0;34m:\u001b[0m\u001b[0;34m\u001b[0m\u001b[0m\n\u001b[0m\u001b[1;32m     20\u001b[0m     \u001b[0;32mpass\u001b[0m\u001b[0;34m\u001b[0m\u001b[0m\n",
      "\u001b[0;32m<ipython-input-5-5177d7a4ef66>\u001b[0m in \u001b[0;36m__new__\u001b[0;34m(cls, clsname, bases, clsdict)\u001b[0m\n\u001b[1;32m      6\u001b[0m     \u001b[0;32mdef\u001b[0m \u001b[0m__new__\u001b[0m\u001b[0;34m(\u001b[0m\u001b[0mcls\u001b[0m\u001b[0;34m,\u001b[0m \u001b[0mclsname\u001b[0m\u001b[0;34m,\u001b[0m \u001b[0mbases\u001b[0m\u001b[0;34m,\u001b[0m \u001b[0mclsdict\u001b[0m\u001b[0;34m)\u001b[0m\u001b[0;34m:\u001b[0m\u001b[0;34m\u001b[0m\u001b[0m\n\u001b[1;32m      7\u001b[0m         \u001b[0;32mif\u001b[0m \u001b[0mlen\u001b[0m\u001b[0;34m(\u001b[0m\u001b[0mbases\u001b[0m\u001b[0;34m)\u001b[0m \u001b[0;34m>\u001b[0m \u001b[0;36m1\u001b[0m\u001b[0;34m:\u001b[0m\u001b[0;34m\u001b[0m\u001b[0m\n\u001b[0;32m----> 8\u001b[0;31m             \u001b[0;32mraise\u001b[0m \u001b[0mTypeError\u001b[0m\u001b[0;34m(\u001b[0m\u001b[0;34m\"Multiple inheritance is not allowed!\"\u001b[0m\u001b[0;34m)\u001b[0m\u001b[0;34m\u001b[0m\u001b[0m\n\u001b[0m\u001b[1;32m      9\u001b[0m         \u001b[0;32melse\u001b[0m\u001b[0;34m:\u001b[0m\u001b[0;34m\u001b[0m\u001b[0m\n\u001b[1;32m     10\u001b[0m             \u001b[0;32mreturn\u001b[0m \u001b[0msuper\u001b[0m\u001b[0;34m(\u001b[0m\u001b[0;34m)\u001b[0m\u001b[0;34m.\u001b[0m\u001b[0m__new__\u001b[0m\u001b[0;34m(\u001b[0m\u001b[0mcls\u001b[0m\u001b[0;34m,\u001b[0m \u001b[0mclsname\u001b[0m\u001b[0;34m,\u001b[0m \u001b[0mbases\u001b[0m\u001b[0;34m,\u001b[0m \u001b[0mclsdict\u001b[0m\u001b[0;34m)\u001b[0m\u001b[0;34m\u001b[0m\u001b[0m\n",
      "\u001b[0;31mTypeError\u001b[0m: Multiple inheritance is not allowed!"
     ]
    }
   ],
   "source": [
    "# Inheritance <8>: Metaclasses <3>\n",
    "\n",
    "# Metaclass (inherited from `type` class)\n",
    "class MultiBases(type):\n",
    "    # Overriding __new__ method from `type` class\n",
    "    def __new__(cls, clsname, bases, clsdict): \n",
    "        if len(bases) > 1:\n",
    "            raise TypeError(\"Multiple inheritance is not allowed!\") \n",
    "        else:\n",
    "            return super().__new__(cls, clsname, bases, clsdict) \n",
    "\n",
    "# Base class inherited from metaclass `MultiBases`\n",
    "class Base(metaclass=MultiBases): \n",
    "    pass\n",
    "\n",
    "class A(Base): \n",
    "    pass\n",
    "\n",
    "class B(Base, A): \n",
    "    pass"
   ]
  },
  {
   "cell_type": "code",
   "execution_count": 19,
   "metadata": {},
   "outputs": [
    {
     "name": "stdout",
     "output_type": "stream",
     "text": [
      "8\n",
      "2\n"
     ]
    }
   ],
   "source": [
    "# Encapsulation <1>: public variables vs. private variables\n",
    "\n",
    "class A(object):\n",
    "    def __init__(self, x, y, z):\n",
    "        self.x   = x         # public instance variable\n",
    "        self._y  = y         # private instance variable (by convention)\n",
    "        self.__z = z         # private instance variable \n",
    "\n",
    "a = A(8, 2, 7)\n",
    "print(a.x)\n",
    "print(a._y)\n",
    "# print(a.__z)       # Error"
   ]
  },
  {
   "cell_type": "code",
   "execution_count": 20,
   "metadata": {},
   "outputs": [
    {
     "name": "stdout",
     "output_type": "stream",
     "text": [
      "Result:  17\n"
     ]
    }
   ],
   "source": [
    "# Encapsulation <2>: public methods vs. private methods\n",
    "\n",
    "class A(object):\n",
    "    \n",
    "    def __init__(self, x, y, z):\n",
    "        self.x   = x         # public instance variable\n",
    "        self._y  = y         # private instance variable (by convention)\n",
    "        self.__z = z         # private instance variable \n",
    "    \n",
    "    # public instance method\n",
    "    def addition(self):\n",
    "        print(\"Result: \", self.x + self._y + self.__z)\n",
    "        \n",
    "    # private instance method\n",
    "    def __printHello(self):\n",
    "        print(\"Hello.\")\n",
    "\n",
    "a = A(8, 2, 7)\n",
    "a.addition()\n",
    "# a.__printHello()       # Error"
   ]
  },
  {
   "cell_type": "code",
   "execution_count": 21,
   "metadata": {},
   "outputs": [
    {
     "name": "stdout",
     "output_type": "stream",
     "text": [
      "7\n",
      "2\n",
      "None\n"
     ]
    }
   ],
   "source": [
    "# Encapsulation <3>: getter, setter, and deleter (1)\n",
    "\n",
    "class A(object):\n",
    "    \n",
    "    def __init__(self, x):\n",
    "        self.__x = x      \n",
    "    \n",
    "    # getter method \n",
    "    def get_x(self):\n",
    "        return self.__x\n",
    "    \n",
    "    # setter method\n",
    "    def set_x(self, x):\n",
    "        self.__x = x\n",
    "       \n",
    "    # deleter method\n",
    "    def del_x(self):\n",
    "        self.__x = None\n",
    "\n",
    "a = A(7)\n",
    "print(a.get_x())\n",
    "a.set_x(2)\n",
    "print(a.get_x())\n",
    "a.del_x()\n",
    "print(a.get_x())"
   ]
  },
  {
   "cell_type": "code",
   "execution_count": 22,
   "metadata": {},
   "outputs": [
    {
     "name": "stdout",
     "output_type": "stream",
     "text": [
      "7\n",
      "2\n",
      "None\n"
     ]
    }
   ],
   "source": [
    "# Encapsulation <4>: getter, setter, and deleter (2)\n",
    "\n",
    "class A(object):\n",
    "    \n",
    "    def __init__(self, x):\n",
    "        self.__x = x      \n",
    "    \n",
    "    @property\n",
    "    def x(self):\n",
    "        return self.__x\n",
    "    \n",
    "    @x.setter\n",
    "    def x(self, x):\n",
    "        self.__x = x\n",
    "       \n",
    "    @x.deleter\n",
    "    def x(self):\n",
    "        self.__x = None\n",
    "\n",
    "a = A(7)\n",
    "print(a.x)\n",
    "a.x = 2\n",
    "print(a.x)\n",
    "del a.x\n",
    "print(a.x)"
   ]
  },
  {
   "cell_type": "code",
   "execution_count": 1,
   "metadata": {},
   "outputs": [
    {
     "name": "stdout",
     "output_type": "stream",
     "text": [
      "7\n",
      "2\n",
      "None\n"
     ]
    }
   ],
   "source": [
    "# Encapsulation <5>: Property (1)\n",
    "\n",
    "class A(object):\n",
    "    \n",
    "    def __init__(self, x):\n",
    "        self.__x = x      \n",
    "    \n",
    "    def get_x(self):\n",
    "        return self.__x\n",
    "    \n",
    "    def set_x(self, x):\n",
    "        self.__x = x\n",
    "       \n",
    "    def delete_x(self):\n",
    "        self.__x = None\n",
    "    \n",
    "    x = property(get_x, set_x, delete_x)\n",
    "\n",
    "a = A(7)\n",
    "print(a.x)\n",
    "a.x = 2\n",
    "print(a.x)\n",
    "del a.x\n",
    "print(a.x)"
   ]
  },
  {
   "cell_type": "code",
   "execution_count": 2,
   "metadata": {},
   "outputs": [
    {
     "name": "stdout",
     "output_type": "stream",
     "text": [
      "x.fget? (before assignment):  None\n",
      "x.fset? (before assignment):  None\n",
      "x.fdel? (before assignment):  None\n",
      "x.fget? (after assignment):  <function A.get_x at 0x103365d08>\n",
      "x.fset? (after assignment):  <function A.set_x at 0x103365c80>\n",
      "x.fdel? (after assignment):  <function A.delete_x at 0x103365d90>\n",
      "get_x called...\n",
      "7\n",
      "set_x called...\n",
      "get_x called...\n",
      "2\n",
      "delete_x called...\n",
      "get_x called...\n",
      "None\n"
     ]
    }
   ],
   "source": [
    "# Encapsulation <6>: Property (2)\n",
    "\n",
    "class A(object):\n",
    "    \n",
    "    def __init__(self, x):\n",
    "        self.__x = x      \n",
    "    \n",
    "    def get_x(self):\n",
    "        print(\"get_x called...\")\n",
    "        return self.__x\n",
    "    \n",
    "    def set_x(self, x):\n",
    "        print(\"set_x called...\")\n",
    "        self.__x = x\n",
    "       \n",
    "    def delete_x(self):\n",
    "        print(\"delete_x called...\")\n",
    "        self.__x = None\n",
    "    \n",
    "    x = property()\n",
    "    print(\"x.fget? (before assignment): \", x.fget)\n",
    "    print(\"x.fset? (before assignment): \", x.fset)\n",
    "    print(\"x.fdel? (before assignment): \", x.fdel)\n",
    "    x = x.getter(get_x)                               # Assign fget\n",
    "    print(\"x.fget? (after assignment): \", x.fget)\n",
    "    x = x.setter(set_x)                               # Assign fset\n",
    "    print(\"x.fset? (after assignment): \", x.fset)\n",
    "    x = x.deleter(delete_x)                           # Assign fdel\n",
    "    print(\"x.fdel? (after assignment): \", x.fdel)\n",
    "    \n",
    "a = A(7)\n",
    "print(a.x)\n",
    "a.x = 2\n",
    "print(a.x)\n",
    "del a.x\n",
    "print(a.x)"
   ]
  },
  {
   "cell_type": "code",
   "execution_count": 3,
   "metadata": {},
   "outputs": [
    {
     "name": "stdout",
     "output_type": "stream",
     "text": [
      "get_x called...\n",
      "7\n",
      "set_x called...\n",
      "get_x called...\n",
      "2\n",
      "delete_x called...\n",
      "get_x called...\n",
      "None\n"
     ]
    }
   ],
   "source": [
    "# Encapsulation <7>: Property (3)\n",
    "\n",
    "class A(object):\n",
    "    \n",
    "    def __init__(self, x):\n",
    "        self.__x = x      \n",
    "    \n",
    "    @property\n",
    "    def x(self):\n",
    "        print(\"get_x called...\")\n",
    "        return self.__x\n",
    "    \n",
    "    @x.setter\n",
    "    def x(self, x):\n",
    "        print(\"set_x called...\")\n",
    "        self.__x = x\n",
    "       \n",
    "    @x.deleter\n",
    "    def x(self):\n",
    "        print(\"delete_x called...\")\n",
    "        self.__x = None\n",
    "\n",
    "a = A(7)\n",
    "print(a.x)\n",
    "a.x = 2\n",
    "print(a.x)\n",
    "del a.x\n",
    "print(a.x)"
   ]
  }
 ],
 "metadata": {
  "kernelspec": {
   "display_name": "Python 3",
   "language": "python",
   "name": "python3"
  },
  "language_info": {
   "codemirror_mode": {
    "name": "ipython",
    "version": 3
   },
   "file_extension": ".py",
   "mimetype": "text/x-python",
   "name": "python",
   "nbconvert_exporter": "python",
   "pygments_lexer": "ipython3",
   "version": "3.6.4"
  }
 },
 "nbformat": 4,
 "nbformat_minor": 2
}
