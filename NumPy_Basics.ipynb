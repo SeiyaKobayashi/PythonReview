{
 "cells": [
  {
   "cell_type": "markdown",
   "metadata": {},
   "source": [
    "# NumPy Basics"
   ]
  },
  {
   "cell_type": "code",
   "execution_count": 1,
   "metadata": {},
   "outputs": [],
   "source": [
    "import numpy as np"
   ]
  },
  {
   "cell_type": "markdown",
   "metadata": {},
   "source": [
    "## 1. ndarray Creation"
   ]
  },
  {
   "cell_type": "code",
   "execution_count": 2,
   "metadata": {},
   "outputs": [
    {
     "name": "stdout",
     "output_type": "stream",
     "text": [
      "arr_1:\n",
      " [1 2 3]\n",
      "type: <class 'numpy.ndarray'>\n",
      "data type: int64\n",
      "number of axes/dimensions: 1\n",
      "shape: (3,)\n",
      "size: 3\n",
      "item size in bytes: 8\n"
     ]
    }
   ],
   "source": [
    "# Create one-dimensional array with array()\n",
    "arr_1 = np.array([1, 2, 3])\n",
    "\n",
    "print('arr_1:\\n', arr_1)\n",
    "print('type:', type(arr_1))\n",
    "print('data type:', arr_1.dtype)\n",
    "print('number of axes/dimensions:', arr_1.ndim)\n",
    "print('shape:', arr_1.shape)\n",
    "print('size:', arr_1.size)\n",
    "print('item size in bytes:', arr_1.itemsize)"
   ]
  },
  {
   "cell_type": "code",
   "execution_count": 3,
   "metadata": {},
   "outputs": [
    {
     "name": "stdout",
     "output_type": "stream",
     "text": [
      "arr_2:\n",
      " [[1. 2. 3.]\n",
      " [4. 5. 6.]]\n",
      "type: <class 'numpy.ndarray'>\n",
      "data type: float32\n",
      "number of axes/dimensions: 2\n",
      "shape: (2, 3)\n",
      "size: 6\n",
      "item size in bytes: 4\n"
     ]
    }
   ],
   "source": [
    "# Create two-dimensional array with array()\n",
    "arr_2 = np.array([[1, 2, 3], [4, 5, 6]], dtype='float32')\n",
    "\n",
    "print('arr_2:\\n', arr_2)\n",
    "print('type:', type(arr_2))\n",
    "print('data type:', arr_2.dtype)\n",
    "print('number of axes/dimensions:', arr_2.ndim)\n",
    "print('shape:', arr_2.shape)\n",
    "print('size:', arr_2.size)\n",
    "print('item size in bytes:', arr_2.itemsize)"
   ]
  },
  {
   "cell_type": "code",
   "execution_count": 4,
   "metadata": {},
   "outputs": [
    {
     "name": "stdout",
     "output_type": "stream",
     "text": [
      "arr_3:\n",
      " [ 0  5 10 15 20 25 30 35 40 45]\n",
      "arr_4:\n",
      " [0.         0.62831853 1.25663706 1.88495559 2.51327412 3.14159265]\n",
      "arr_5:\n",
      " [1 1 1 1 1 1 1 1 1 1]\n",
      "arr_6:\n",
      " [[-1.72723371e-077 -2.32036297e+077  1.97626258e-323]\n",
      " [ 0.00000000e+000  0.00000000e+000  0.00000000e+000]]\n"
     ]
    }
   ],
   "source": [
    "# Create arrays with other useful methods #1\n",
    "arr_3 = np.arange(0, 50, 5)\n",
    "arr_4 = np.linspace(0, np.pi, 6)\n",
    "arr_5 = np.ones_like(arr_3)\n",
    "arr_6 = np.empty((2, 3))\n",
    "\n",
    "print('arr_3:\\n', arr_3)\n",
    "print('arr_4:\\n', arr_4)\n",
    "print('arr_5:\\n', arr_5)\n",
    "print('arr_6:\\n', arr_6)"
   ]
  },
  {
   "cell_type": "code",
   "execution_count": 5,
   "metadata": {},
   "outputs": [
    {
     "name": "stdout",
     "output_type": "stream",
     "text": [
      "arr_7:\n",
      " [[[0. 0.]\n",
      "  [0. 0.]\n",
      "  [0. 0.]]\n",
      "\n",
      " [[0. 0.]\n",
      "  [0. 0.]\n",
      "  [0. 0.]]]\n",
      "arr_8:\n",
      " [[0 1 2]\n",
      " [1 2 3]\n",
      " [2 3 4]]\n",
      "arr_9:\n",
      " [[0.37886736 0.4136141  0.27396963]\n",
      " [0.72742684 0.71592678 0.36676315]]\n"
     ]
    }
   ],
   "source": [
    "# Create arrays with other useful methods #2\n",
    "arr_7 = np.zeros((2, 3, 2))\n",
    "arr_8 = np.fromfunction(lambda i, j: i + j, (3, 3), dtype=int)\n",
    "arr_9 = np.random.random((2, 3))\n",
    "\n",
    "print('arr_7:\\n', arr_7)\n",
    "print('arr_8:\\n', arr_8)\n",
    "print('arr_9:\\n', arr_9)"
   ]
  },
  {
   "cell_type": "markdown",
   "metadata": {},
   "source": [
    "## 2. ndarray Manipulation"
   ]
  },
  {
   "cell_type": "code",
   "execution_count": 6,
   "metadata": {},
   "outputs": [
    {
     "name": "stdout",
     "output_type": "stream",
     "text": [
      "A:\n",
      " [10 20 30 40 50]\n",
      "B:\n",
      " [0 1 2 3 4]\n",
      "A + B:\n",
      " [10 21 32 43 54]\n",
      "A * B:\n",
      " [  0  20  60 120 200]\n",
      "A > 30:\n",
      " [False False False  True  True]\n",
      "(A > 30) * (B % 2 == 0):\n",
      " [False False False False  True]\n"
     ]
    }
   ],
   "source": [
    "# ndarray manipulation #1\n",
    "A = np.array([10, 20, 30, 40, 50])\n",
    "B = np.arange(5)\n",
    "\n",
    "print('A:\\n', A)\n",
    "print('B:\\n', B)\n",
    "\n",
    "print('A + B:\\n', A + B)\n",
    "print('A * B:\\n', A * B)\n",
    "\n",
    "print('A > 30:\\n', A > 30)\n",
    "print('(A > 30) * (B % 2 == 0):\\n', (A > 30) * (B % 2 == 0))"
   ]
  },
  {
   "cell_type": "code",
   "execution_count": 7,
   "metadata": {},
   "outputs": [
    {
     "name": "stdout",
     "output_type": "stream",
     "text": [
      "C:\n",
      " [[2 5]\n",
      " [9 5]\n",
      " [1 0]]\n",
      "D:\n",
      " [[1 4]\n",
      " [5 6]]\n",
      "E:\n",
      " [[1 4]\n",
      " [5 6]\n",
      " [0 5]]\n",
      "C @ D:\n",
      " [[27 38]\n",
      " [34 66]\n",
      " [ 1  4]]\n",
      "C.dot(D):\n",
      " [[27 38]\n",
      " [34 66]\n",
      " [ 1  4]]\n"
     ]
    }
   ],
   "source": [
    "# ndarray manipulation #2\n",
    "C = np.array([[2, 5], [9, 5], [1, 0]])\n",
    "D = np.array([[1, 4], [5, 6]])\n",
    "E = np.array([[1, 4], [5, 6], [0, 5]])\n",
    "\n",
    "print('C:\\n', C)\n",
    "print('D:\\n', D)\n",
    "print('E:\\n', E)\n",
    "\n",
    "print('C @ D:\\n', C @ D)\n",
    "print('C.dot(D):\\n', C.dot(D))\n",
    "# print('C.dot(E):\\n', C.dot(E))     # Error (ndim must match!)"
   ]
  },
  {
   "cell_type": "code",
   "execution_count": 8,
   "metadata": {},
   "outputs": [
    {
     "name": "stdout",
     "output_type": "stream",
     "text": [
      "F:\n",
      " [0 1 2 3 4 5 6 7 8 9]\n",
      "F - 2:\n",
      " [-2. -1.  0.  1.  2.  3.  4.  5.  6.  7.]\n",
      "F * 4:\n",
      " [ 0  4  8 12 16 20 24 28 32 36]\n",
      "F % 2:\n",
      " [0 1 0 1 0 1 0 1 0 1]\n"
     ]
    }
   ],
   "source": [
    "# ndarray manipulation #3\n",
    "F = np.arange(10)\n",
    "\n",
    "print('F:\\n', F)\n",
    "print('F - 2:\\n', F - 2.0)\n",
    "print('F * 4:\\n', F * 4)\n",
    "print('F % 2:\\n', F % 2)"
   ]
  },
  {
   "cell_type": "code",
   "execution_count": 9,
   "metadata": {},
   "outputs": [
    {
     "name": "stdout",
     "output_type": "stream",
     "text": [
      "G:\n",
      " [[83.95068966 70.12711865 68.65262379  5.67943019]\n",
      " [ 8.04007375 10.96911765 99.8862175  40.47188776]]\n",
      "sum:\n",
      " 387.7771589508984\n",
      "cumulative sum:\n",
      " [ 83.95068966 154.07780831 222.7304321  228.40986229 236.44993604\n",
      " 247.41905369 347.30527119 387.77715895]\n",
      "max:\n",
      " 99.88621749742056\n",
      "min:\n",
      " 5.679430188912549\n",
      "mean:\n",
      " 48.4721448688623\n",
      "where(>60):\n",
      " [83.95068966 70.12711865 68.65262379 99.8862175 ]\n"
     ]
    }
   ],
   "source": [
    "# ndarray manipulation #4\n",
    "G = np.random.random((2, 4)) * 100\n",
    "\n",
    "print('G:\\n', G)\n",
    "print('sum:\\n', G.sum())\n",
    "print('cumulative sum:\\n', G.cumsum())\n",
    "print('max:\\n', G.max())\n",
    "print('min:\\n', G.min())\n",
    "print('mean:\\n', G.mean())\n",
    "print('where(>60):\\n', G[np.where(G > 60)])"
   ]
  },
  {
   "cell_type": "code",
   "execution_count": 10,
   "metadata": {},
   "outputs": [
    {
     "name": "stdout",
     "output_type": "stream",
     "text": [
      "H:\n",
      " [[28 26 28  6]\n",
      " [24  8 20  9]]\n",
      "argmax(H):\n",
      " 0\n",
      "argmax(H, axis=0):\n",
      " [0 0 0 1]\n",
      "argmax(H, axis=1):\n",
      " [0 0]\n",
      "argsort(H):\n",
      " [[3 1 0 2]\n",
      " [1 3 2 0]]\n",
      "argsort(H, axis=0):\n",
      " [[1 1 1 0]\n",
      " [0 0 0 1]]\n",
      "argsort(H, axis=1):\n",
      " [[3 1 0 2]\n",
      " [1 3 2 0]]\n"
     ]
    }
   ],
   "source": [
    "# ndarray manipulation #5\n",
    "H = np.random.randint(30, size=(2, 4))\n",
    "\n",
    "print('H:\\n', H)\n",
    "# index of max when the array is flatten\n",
    "print('argmax(H):\\n', np.argmax(H))\n",
    "# indices of max (column-wise) \n",
    "print('argmax(H, axis=0):\\n', np.argmax(H, axis=0))\n",
    "# indices of max (row-wise)\n",
    "print('argmax(H, axis=1):\\n', np.argmax(H, axis=1))\n",
    "\n",
    "# same as argsort(H, axis=1)\n",
    "print('argsort(H):\\n', np.argsort(H))\n",
    "# sort elements (column-wise)\n",
    "print('argsort(H, axis=0):\\n', np.argsort(H, axis=0))\n",
    "# sort elements (row-wise)\n",
    "print('argsort(H, axis=1):\\n', np.argsort(H, axis=1))"
   ]
  },
  {
   "cell_type": "markdown",
   "metadata": {},
   "source": [
    "## 3. Indexing & Slicing"
   ]
  },
  {
   "cell_type": "code",
   "execution_count": 11,
   "metadata": {},
   "outputs": [
    {
     "name": "stdout",
     "output_type": "stream",
     "text": [
      "I:\n",
      " [32 63 30 85 27 65  9]\n",
      "I[1:4]:\n",
      " [63 30 85]\n",
      "I[2:]:\n",
      " [30 85 27 65  9]\n",
      "I[1::2]:\n",
      " [63 85 65]\n",
      "\n",
      "J:\n",
      " [[39 80 93 26 99]\n",
      " [28  8 41 90 54]\n",
      " [35 70 43  2 35]]\n",
      "J[1, 3]:\n",
      " 90\n",
      "J[0:2, 1:3]:\n",
      " [[80 93]\n",
      " [ 8 41]]\n"
     ]
    }
   ],
   "source": [
    "# indexing & slicing #1\n",
    "I = np.random.randint(100, size=7)\n",
    "\n",
    "print('I:\\n', I)\n",
    "print('I[1:4]:\\n', I[1:4])\n",
    "print('I[2:]:\\n', I[2:])\n",
    "print('I[1::2]:\\n', I[1::2], end='\\n\\n')\n",
    "\n",
    "J = np.random.randint(100, size=(3, 5))\n",
    "\n",
    "print('J:\\n', J)\n",
    "print('J[1, 3]:\\n', J[1, 3])\n",
    "print('J[0:2, 1:3]:\\n', J[0:2, 1:3])"
   ]
  },
  {
   "cell_type": "code",
   "execution_count": 12,
   "metadata": {},
   "outputs": [
    {
     "name": "stdout",
     "output_type": "stream",
     "text": [
      "K:\n",
      " [[ 8.53043121 10.1205655  10.91944574  8.71303918]\n",
      " [ 9.24522636  8.64136669  9.93825842 10.94458528]]\n",
      "K[0, 0:2]:\n",
      " [ 8.53043121 10.1205655 ]\n",
      "\n",
      "L:\n",
      " [[[10.05303871 11.97613507  9.14937606]\n",
      "  [ 9.23344768  8.74808422 11.1603547 ]\n",
      "  [ 8.97419632 11.58245418 10.30769371]]\n",
      "\n",
      " [[10.79173755  8.90258381  8.63535346]\n",
      "  [11.02775443  9.00429152  9.98375539]\n",
      "  [ 9.8576386   9.49033129  8.49421977]]]\n",
      "shape: (2, 3, 3)\n",
      "L[..., 2]:\n",
      " [[ 9.14937606 11.1603547  10.30769371]\n",
      " [ 8.63535346  9.98375539  8.49421977]]\n"
     ]
    }
   ],
   "source": [
    "# indexing & slicing #2\n",
    "K = np.random.randn(2, 4) + 10\n",
    "\n",
    "print('K:\\n', K)\n",
    "print('K[0, 0:2]:\\n', K[0, 0:2], end='\\n\\n')\n",
    "\n",
    "L = np.random.randn(2, 3, 3) + 10\n",
    "\n",
    "print('L:\\n', L)\n",
    "print('shape:', L.shape)\n",
    "print('L[..., 2]:\\n', L[..., 2])"
   ]
  },
  {
   "cell_type": "markdown",
   "metadata": {},
   "source": [
    "## 4. Shape Manipulation"
   ]
  },
  {
   "cell_type": "code",
   "execution_count": 13,
   "metadata": {},
   "outputs": [
    {
     "name": "stdout",
     "output_type": "stream",
     "text": [
      "M.reshape(2, 3):\n",
      " [[1 2 3]\n",
      " [4 5 6]]\n",
      "M(after reshape(2, 3)):\n",
      " [1 2 3 4 5 6]\n",
      "M(after resize(2, 3)):\n",
      " [[1 2 3]\n",
      " [4 5 6]]\n",
      "Transpose of M:\n",
      " [[1 4]\n",
      " [2 5]\n",
      " [3 6]]\n"
     ]
    }
   ],
   "source": [
    "# reshape() vs. resize()\n",
    "# reshape() returns ndarray, while resize returns None (modifies ndarray directly)\n",
    "M = np.array([1, 2, 3, 4, 5, 6])\n",
    "\n",
    "print('M.reshape(2, 3):\\n', M.reshape(2, 3))\n",
    "print('M(after reshape(2, 3)):\\n', M)\n",
    "M.resize(2, 3)\n",
    "print('M(after resize(2, 3)):\\n', M)\n",
    "print('Transpose of M:\\n', M.T)"
   ]
  },
  {
   "cell_type": "code",
   "execution_count": 14,
   "metadata": {},
   "outputs": [
    {
     "name": "stdout",
     "output_type": "stream",
     "text": [
      "N:\n",
      " [[ 0  1  2  3]\n",
      " [ 4  5  6  7]\n",
      " [ 8  9 10 11]]\n",
      "N(after ravel():)\n",
      " [ 0  1  2  3  4  5  6  7  8  9 10 11]\n",
      "N(after flatten:)\n",
      " [ 0  1  2  3  4  5  6  7  8  9 10 11]\n",
      "N:\n",
      " [[  0   1   2 100]\n",
      " [  4   5   6   7]\n",
      " [  8   9  10  11]]\n",
      "N:\n",
      " [[  0   1   2 100]\n",
      " [  4   5   6   7]\n",
      " [  8   9  10  11]]\n"
     ]
    }
   ],
   "source": [
    "# ravel() vs. flatten()\n",
    "# ravel() returns reference/view of the original ndarray,\n",
    "# while flatten returns copy of the original ndarray\n",
    "N = np.arange(12).reshape((3, 4))\n",
    "\n",
    "print('N:\\n', N)\n",
    "\n",
    "N_ravel = np.ravel(N)\n",
    "print('N(after ravel():)\\n', N_ravel)\n",
    "N_flatten = N.flatten()\n",
    "print('N(after flatten:)\\n', N_flatten)\n",
    "\n",
    "N_ravel[3] = 100\n",
    "print('N:\\n', N)\n",
    "N_flatten[2] = 300\n",
    "print('N:\\n', N)"
   ]
  },
  {
   "cell_type": "markdown",
   "metadata": {},
   "source": [
    "## 5. View & Copy"
   ]
  },
  {
   "cell_type": "code",
   "execution_count": 15,
   "metadata": {},
   "outputs": [
    {
     "name": "stdout",
     "output_type": "stream",
     "text": [
      "O: [2 5 3]\n",
      "\n",
      "O_1: [2 5 3]\n",
      "id(O) == id(O_1): True\n",
      "O_1.base: None\n",
      "\n",
      "O_2: [2 5 3]\n",
      "id(O) == id(O_2): False\n",
      "O_2.base: [2 5 3]\n",
      "\n",
      "O_3: [2 5 3]\n",
      "id(O) == id(O_3): False\n",
      "O_3.base: None\n"
     ]
    }
   ],
   "source": [
    "# view() vs. copy() \n",
    "O = np.array([2, 5, 3])\n",
    "print('O:', O, end='\\n\\n')\n",
    "\n",
    "O_1 = O\n",
    "print('O_1:', O_1)\n",
    "print('id(O) == id(O_1):', id(O) == id(O_1))\n",
    "print('O_1.base:', O_1.base, end='\\n\\n')\n",
    "\n",
    "O_2 = O.view()\n",
    "print('O_2:', O_2)\n",
    "print('id(O) == id(O_2):', id(O) == id(O_2))\n",
    "print('O_2.base:', O_2.base, end='\\n\\n')\n",
    "\n",
    "O_3 = O.copy()\n",
    "print('O_3:', O_3)\n",
    "print('id(O) == id(O_3):', id(O) == id(O_3))\n",
    "print('O_3.base:', O_3.base)"
   ]
  },
  {
   "cell_type": "code",
   "execution_count": 16,
   "metadata": {},
   "outputs": [
    {
     "name": "stdout",
     "output_type": "stream",
     "text": [
      "O: [ 2 10  3]\n",
      "O_2: [ 2 10  3]\n",
      "\n",
      "O: [ 2 10  3]\n",
      "O_3: [  2 100   3]\n"
     ]
    }
   ],
   "source": [
    "# view() vs. copy() continued\n",
    "O_2[1] = 10\n",
    "print('O:', O)\n",
    "print('O_2:', O_2, end='\\n\\n')\n",
    "\n",
    "O_3[1] = 100\n",
    "print('O:', O)\n",
    "print('O_3:', O_3)"
   ]
  },
  {
   "cell_type": "markdown",
   "metadata": {},
   "source": [
    "## 6. Stacking & Splitting"
   ]
  },
  {
   "cell_type": "code",
   "execution_count": 17,
   "metadata": {},
   "outputs": [
    {
     "name": "stdout",
     "output_type": "stream",
     "text": [
      "P: [0 0 0 0 0]\n",
      "Q: [7 7 7 7 7]\n",
      "np.stack([P, Q]):\n",
      " [[0 0 0 0 0]\n",
      " [7 7 7 7 7]]\n",
      "np.stack([P, Q], 1):\n",
      " [[0 7]\n",
      " [0 7]\n",
      " [0 7]\n",
      " [0 7]\n",
      " [0 7]]\n"
     ]
    }
   ],
   "source": [
    "# np.stack()\n",
    "P = np.zeros(5, int)\n",
    "Q = np.full(5, 7)\n",
    "\n",
    "print('P:', P)\n",
    "print('Q:', Q)\n",
    "\n",
    "print('np.stack([P, Q]):\\n', np.stack([P, Q]))\n",
    "print('np.stack([P, Q], 1):\\n', np.stack([P, Q], 1))"
   ]
  },
  {
   "cell_type": "code",
   "execution_count": 18,
   "metadata": {},
   "outputs": [
    {
     "name": "stdout",
     "output_type": "stream",
     "text": [
      "np.vstack((P, Q)):\n",
      " [[0 0 0 0 0]\n",
      " [7 7 7 7 7]]\n",
      "np.hstack((P, Q)):\n",
      " [0 0 0 0 0 7 7 7 7 7]\n",
      "np.column_stack((P, Q)):\n",
      " [[0 7]\n",
      " [0 7]\n",
      " [0 7]\n",
      " [0 7]\n",
      " [0 7]]\n"
     ]
    }
   ],
   "source": [
    "# More on P & Q\n",
    "print('np.vstack((P, Q)):\\n', np.vstack((P, Q)))\n",
    "print('np.hstack((P, Q)):\\n', np.hstack((P, Q)))\n",
    "print('np.column_stack((P, Q)):\\n', np.column_stack((P, Q)))"
   ]
  },
  {
   "cell_type": "code",
   "execution_count": 19,
   "metadata": {},
   "outputs": [
    {
     "name": "stdout",
     "output_type": "stream",
     "text": [
      "R:\n",
      " [[3 7]\n",
      " [1 2]]\n",
      "S:\n",
      " [[0 9]\n",
      " [5 4]]\n",
      "np.vstack((R, S)):\n",
      " [[3 7]\n",
      " [1 2]\n",
      " [0 9]\n",
      " [5 4]]\n",
      "np.hstack((R, S)):\n",
      " [[3 7 0 9]\n",
      " [1 2 5 4]]\n"
     ]
    }
   ],
   "source": [
    "# np.vstack() & np.hstack()\n",
    "R = np.array([[3, 7], [1, 2]])\n",
    "S = np.array([[0, 9], [5, 4]])\n",
    "\n",
    "print('R:\\n', R)\n",
    "print('S:\\n', S)\n",
    "\n",
    "print('np.vstack((R, S)):\\n', np.vstack((R, S)))\n",
    "print('np.hstack((R, S)):\\n', np.hstack((R, S)))"
   ]
  },
  {
   "cell_type": "code",
   "execution_count": 20,
   "metadata": {},
   "outputs": [
    {
     "name": "stdout",
     "output_type": "stream",
     "text": [
      "T:\n",
      " [[[1 1 1]\n",
      "  [1 1 1]]\n",
      "\n",
      " [[1 1 1]\n",
      "  [1 1 1]]]\n",
      "U:\n",
      " [[[0 0 0]\n",
      "  [0 0 0]]\n",
      "\n",
      " [[0 0 0]\n",
      "  [0 0 0]]]\n",
      "np.stack([T, U]):\n",
      " [[[[1 1 1]\n",
      "   [1 1 1]]\n",
      "\n",
      "  [[1 1 1]\n",
      "   [1 1 1]]]\n",
      "\n",
      "\n",
      " [[[0 0 0]\n",
      "   [0 0 0]]\n",
      "\n",
      "  [[0 0 0]\n",
      "   [0 0 0]]]]\n",
      "np.stack([T, U], 1):\n",
      " [[[[1 1 1]\n",
      "   [1 1 1]]\n",
      "\n",
      "  [[0 0 0]\n",
      "   [0 0 0]]]\n",
      "\n",
      "\n",
      " [[[1 1 1]\n",
      "   [1 1 1]]\n",
      "\n",
      "  [[0 0 0]\n",
      "   [0 0 0]]]]\n",
      "np.stack([T, U], 2):\n",
      " [[[[1 1 1]\n",
      "   [0 0 0]]\n",
      "\n",
      "  [[1 1 1]\n",
      "   [0 0 0]]]\n",
      "\n",
      "\n",
      " [[[1 1 1]\n",
      "   [0 0 0]]\n",
      "\n",
      "  [[1 1 1]\n",
      "   [0 0 0]]]]\n",
      "np.concatenate([T, U]):\n",
      " [[[1 1 1]\n",
      "  [1 1 1]]\n",
      "\n",
      " [[1 1 1]\n",
      "  [1 1 1]]\n",
      "\n",
      " [[0 0 0]\n",
      "  [0 0 0]]\n",
      "\n",
      " [[0 0 0]\n",
      "  [0 0 0]]]\n",
      "np.concatenate([T, U], 1):\n",
      " [[[1 1 1]\n",
      "  [1 1 1]\n",
      "  [0 0 0]\n",
      "  [0 0 0]]\n",
      "\n",
      " [[1 1 1]\n",
      "  [1 1 1]\n",
      "  [0 0 0]\n",
      "  [0 0 0]]]\n",
      "np.concatenate([T, U], 2):\n",
      " [[[1 1 1 0 0 0]\n",
      "  [1 1 1 0 0 0]]\n",
      "\n",
      " [[1 1 1 0 0 0]\n",
      "  [1 1 1 0 0 0]]]\n",
      "np.vstack((T, U)):\n",
      " [[[1 1 1]\n",
      "  [1 1 1]]\n",
      "\n",
      " [[1 1 1]\n",
      "  [1 1 1]]\n",
      "\n",
      " [[0 0 0]\n",
      "  [0 0 0]]\n",
      "\n",
      " [[0 0 0]\n",
      "  [0 0 0]]]\n",
      "np.hstack((T, U)):\n",
      " [[[1 1 1]\n",
      "  [1 1 1]\n",
      "  [0 0 0]\n",
      "  [0 0 0]]\n",
      "\n",
      " [[1 1 1]\n",
      "  [1 1 1]\n",
      "  [0 0 0]\n",
      "  [0 0 0]]]\n",
      "np.dstack((T, U)):\n",
      " [[[1 1 1 0 0 0]\n",
      "  [1 1 1 0 0 0]]\n",
      "\n",
      " [[1 1 1 0 0 0]\n",
      "  [1 1 1 0 0 0]]]\n"
     ]
    }
   ],
   "source": [
    "# More on stacking #1\n",
    "T = np.ones((2, 2, 3), int)\n",
    "U = np.zeros((2, 2, 3), int)\n",
    "\n",
    "print('T:\\n', T)\n",
    "print('U:\\n', U)\n",
    "\n",
    "# np.stack() always creates a new axis, while np.concatenate() doesn't\n",
    "print('np.stack([T, U]):\\n', np.stack([T, U]))\n",
    "print('np.stack([T, U], 1):\\n', np.stack([T, U], 1))\n",
    "print('np.stack([T, U], 2):\\n', np.stack([T, U], 2))\n",
    "print('np.concatenate([T, U]):\\n', np.concatenate([T, U]))\n",
    "print('np.concatenate([T, U], 1):\\n', np.concatenate([T, U], 1))\n",
    "print('np.concatenate([T, U], 2):\\n', np.concatenate([T, U], 2))\n",
    "# vstack -> axis=0, hstack -> axis=1, dstack -> axis=2\n",
    "print('np.vstack((T, U)):\\n', np.vstack((T, U)))\n",
    "print('np.hstack((T, U)):\\n', np.hstack((T, U)))\n",
    "print('np.dstack((T, U)):\\n', np.dstack((T, U)))"
   ]
  },
  {
   "cell_type": "code",
   "execution_count": 21,
   "metadata": {},
   "outputs": [
    {
     "name": "stdout",
     "output_type": "stream",
     "text": [
      "V:\n",
      " [[3 3]\n",
      " [3 3]]\n",
      "W:\n",
      " [[5 5]\n",
      " [5 5]]\n",
      "np.block([[V], [W]]):\n",
      " [[3 3]\n",
      " [3 3]\n",
      " [5 5]\n",
      " [5 5]]\n",
      "np.block([[W], [V]]):\n",
      " [[5 5]\n",
      " [5 5]\n",
      " [3 3]\n",
      " [3 3]]\n",
      "np.block([V, W]):\n",
      " [[3 3 5 5]\n",
      " [3 3 5 5]]\n",
      "np.block([V.flatten(), W.flatten(), V.flatten()]):\n",
      " [3 3 3 3 5 5 5 5 3 3 3 3]\n"
     ]
    }
   ],
   "source": [
    "# np.block()\n",
    "V = np.full((2, 2), 3)\n",
    "W = np.full((2, 2), 5)\n",
    "\n",
    "print('V:\\n', V)\n",
    "print('W:\\n', W)\n",
    "\n",
    "print('np.block([[V], [W]]):\\n', np.block([[V], [W]]))\n",
    "print('np.block([[W], [V]]):\\n', np.block([[W], [V]]))\n",
    "print('np.block([V, W]):\\n', np.block([V, W]))\n",
    "print('np.block([V.flatten(), W.flatten(), V.flatten()]):\\n', np.block([V.flatten(), W.flatten(), V.flatten()]))"
   ]
  },
  {
   "cell_type": "code",
   "execution_count": 22,
   "metadata": {},
   "outputs": [
    {
     "name": "stdout",
     "output_type": "stream",
     "text": [
      "X:\n",
      " [[ 0  1  2  3]\n",
      " [ 4  5  6  7]\n",
      " [ 8  9 10 11]\n",
      " [12 13 14 15]]\n",
      "np.split(X, 2):\n",
      " [array([[0, 1, 2, 3],\n",
      "       [4, 5, 6, 7]]), array([[ 8,  9, 10, 11],\n",
      "       [12, 13, 14, 15]])]\n",
      "np.split(X, 2, 1):\n",
      " [array([[ 0,  1],\n",
      "       [ 4,  5],\n",
      "       [ 8,  9],\n",
      "       [12, 13]]), array([[ 2,  3],\n",
      "       [ 6,  7],\n",
      "       [10, 11],\n",
      "       [14, 15]])]\n"
     ]
    }
   ],
   "source": [
    "# np.split()\n",
    "X = np.arange(16).reshape(4, 4)\n",
    "\n",
    "print('X:\\n', X)\n",
    "\n",
    "# Split by rows\n",
    "print('np.split(X, 2):\\n', np.split(X, 2))\n",
    "# Split by columns\n",
    "print('np.split(X, 2, 1):\\n', np.split(X, 2, 1))"
   ]
  },
  {
   "cell_type": "code",
   "execution_count": 23,
   "metadata": {},
   "outputs": [
    {
     "name": "stdout",
     "output_type": "stream",
     "text": [
      "Y:\n",
      " [[0 1 2]\n",
      " [3 4 5]\n",
      " [6 7 8]]\n",
      "np.array_split(Y, 2):\n",
      " [array([[0, 1, 2],\n",
      "       [3, 4, 5]]), array([[6, 7, 8]])]\n",
      "np.vsplit(Y, 3):\n",
      " [array([[0, 1, 2]]), array([[3, 4, 5]]), array([[6, 7, 8]])]\n",
      "np.hsplit(Y, 3):\n",
      " [array([[0],\n",
      "       [3],\n",
      "       [6]]), array([[1],\n",
      "       [4],\n",
      "       [7]]), array([[2],\n",
      "       [5],\n",
      "       [8]])]\n"
     ]
    }
   ],
   "source": [
    "# More on splitting\n",
    "Y = np.arange(9).reshape(3, 3)\n",
    "\n",
    "print('Y:\\n', Y)\n",
    "\n",
    "print('np.array_split(Y, 2):\\n', np.array_split(Y, 2))\n",
    "print('np.vsplit(Y, 3):\\n', np.vsplit(Y, 3))\n",
    "print('np.hsplit(Y, 3):\\n', np.hsplit(Y, 3))"
   ]
  },
  {
   "cell_type": "markdown",
   "metadata": {},
   "source": [
    "## 7. Randomness"
   ]
  },
  {
   "cell_type": "code",
   "execution_count": 24,
   "metadata": {},
   "outputs": [
    {
     "name": "stdout",
     "output_type": "stream",
     "text": [
      "rand(): 0.2295605980551022\n",
      "rand(3): [0.22591442 0.9585092  0.28683745]\n",
      "rand(2, 3):\n",
      " [[0.58873522 0.22350433 0.49827002]\n",
      " [0.00961567 0.993996   0.4029805 ]]\n",
      "random_sample(2, 3):\n",
      " [[0.98140146 0.3207399  0.9645791 ]\n",
      " [0.58161436 0.19126175 0.21200651]]\n",
      "randn(3): [ 0.49671415 -0.1382643   0.64768854]\n",
      "randn(3): [ 0.49671415 -0.1382643   0.64768854]\n",
      "randint(100): 82\n",
      "randint(50, 70, 5): [60 60 53 57 52]\n",
      "\n",
      "choice(6, 3): [5 4 1]\n",
      "choice(6, 3): [4 5 0]\n",
      "\n"
     ]
    }
   ],
   "source": [
    "print('rand():', np.random.rand())\n",
    "print('rand(3):', np.random.rand(3))\n",
    "print('rand(2, 3):\\n', np.random.rand(2, 3))\n",
    "print('random_sample(2, 3):\\n', np.random.random_sample((2, 3)))\n",
    "\n",
    "for _ in range(2):\n",
    "    np.random.seed(42)     # Ensure the following function always generates the same random values\n",
    "    print('randn(3):', np.random.randn(3))\n",
    "\n",
    "print('randint(100):', np.random.randint(100))\n",
    "print('randint(50, 70, 5):', np.random.randint(50, 70, 5), end='\\n\\n')\n",
    "\n",
    "print('choice(6, 3):', np.random.choice(6, 3))\n",
    "# You can also set custom probability for each element\n",
    "print('choice(6, 3):', np.random.choice(6, 3, p=[0.1, 0, 0.1, 0.5, 0.2, 0.1]), end='\\n\\n')"
   ]
  },
  {
   "cell_type": "code",
   "execution_count": 25,
   "metadata": {},
   "outputs": [
    {
     "name": "stdout",
     "output_type": "stream",
     "text": [
      "Z:\n",
      " [0 1 2 3 4 5 6 7]\n",
      "Z_:\n",
      " [[0 1 2 3]\n",
      " [4 5 6 7]]\n",
      "\n",
      "shuffle(Z): [2 5 6 1 7 0 4 3]\n",
      "permutation(Z): [0 5 3 7 6 4 2 1]\n",
      "\n",
      "shuffle(Z_):\n",
      " [[0 1 2 3]\n",
      " [4 5 6 7]]\n",
      "permutation(Z_):\n",
      " [[0 1 2 3]\n",
      " [4 5 6 7]]\n"
     ]
    }
   ],
   "source": [
    "Z = np.arange(8)\n",
    "Z_ = np.arange(8).reshape(2, 4)\n",
    "\n",
    "print('Z:\\n', Z)\n",
    "print('Z_:\\n', Z_, end='\\n\\n')\n",
    "\n",
    "# print('shuffle():', np.random.shuffle(Z))     # return None (i.e. shuffles Z directly)\n",
    "np.random.shuffle(Z)\n",
    "print('shuffle(Z):', Z)\n",
    "print('permutation(Z):', np.random.permutation(Z), end='\\n\\n')\n",
    "\n",
    "# Notice: applying shuffle()/permutation() on multi-dimensional array shuffles along the first axis\n",
    "np.random.shuffle(Z_)\n",
    "print('shuffle(Z_):\\n', Z_)\n",
    "print('permutation(Z_):\\n', np.random.permutation(Z_))"
   ]
  },
  {
   "cell_type": "markdown",
   "metadata": {},
   "source": [
    "## 8. Other Functions"
   ]
  },
  {
   "cell_type": "code",
   "execution_count": 26,
   "metadata": {},
   "outputs": [
    {
     "name": "stdout",
     "output_type": "stream",
     "text": [
      "np.asarray(a) is a: False\n",
      "np.asarray(b) is b: True\n",
      "np.array(b) is b: False\n",
      "\n",
      "c: [4.  2.4 1.5]\n",
      "c.astype(int): [4 2 1]\n"
     ]
    }
   ],
   "source": [
    "# asarray() and astype()\n",
    "a = [1, 2, 3]\n",
    "print('np.asarray(a) is a:', np.asarray(a) is a)\n",
    "\n",
    "b = np.array([1, 2, 3])\n",
    "print('np.asarray(b) is b:', np.asarray(b) is b)\n",
    "print('np.array(b) is b:', np.array(b) is b, end='\\n\\n')\n",
    "\n",
    "c = np.array([4.0, 2.4, 1.5])\n",
    "print('c:', c)\n",
    "print('c.astype(int):', c.astype(int))"
   ]
  },
  {
   "cell_type": "code",
   "execution_count": 27,
   "metadata": {},
   "outputs": [
    {
     "name": "stdout",
     "output_type": "stream",
     "text": [
      "maximum(d, e): [2 9 3]\n",
      "minimum(d, e): [0 7 1]\n",
      "max(d) 7\n",
      "maximum.reduce(d) 7\n",
      "maximum.reduce(f) [2 9 3]\n"
     ]
    }
   ],
   "source": [
    "# maximum() & minimum() + reduce()\n",
    "d = np.array([2, 7, 1])\n",
    "e = np.array([0, 9, 3])\n",
    "\n",
    "print('maximum(d, e):', np.maximum(d, e))\n",
    "print('minimum(d, e):', np.minimum(d, e))\n",
    "\n",
    "print('max(d)', np.max(d))\n",
    "print('maximum.reduce(d)', np.maximum.reduce(d))\n",
    "\n",
    "f = np.vstack((d, e))\n",
    "print('maximum.reduce(f)', np.maximum.reduce(f))"
   ]
  },
  {
   "cell_type": "code",
   "execution_count": 28,
   "metadata": {},
   "outputs": [
    {
     "name": "stdout",
     "output_type": "stream",
     "text": [
      "identity(3):\n",
      " [[1. 0. 0.]\n",
      " [0. 1. 0.]\n",
      " [0. 0. 1.]]\n",
      "eye(3):\n",
      " [[1. 0. 0.]\n",
      " [0. 1. 0.]\n",
      " [0. 0. 1.]]\n",
      "eye(3, k=1):\n",
      " [[0. 1. 0.]\n",
      " [0. 0. 1.]\n",
      " [0. 0. 0.]]\n",
      "eye(3, 5):\n",
      " [[1. 0. 0. 0. 0.]\n",
      " [0. 1. 0. 0. 0.]\n",
      " [0. 0. 1. 0. 0.]]\n"
     ]
    }
   ],
   "source": [
    "# identity() & eye()\n",
    "print('identity(3):\\n', np.identity(3))\n",
    "print('eye(3):\\n', np.eye(3))\n",
    "print('eye(3, k=1):\\n', np.eye(3, k=1))\n",
    "print('eye(3, 5):\\n', np.eye(3, 5))"
   ]
  }
 ],
 "metadata": {
  "kernelspec": {
   "display_name": "Python 3",
   "language": "python",
   "name": "python3"
  },
  "language_info": {
   "codemirror_mode": {
    "name": "ipython",
    "version": 3
   },
   "file_extension": ".py",
   "mimetype": "text/x-python",
   "name": "python",
   "nbconvert_exporter": "python",
   "pygments_lexer": "ipython3",
   "version": "3.6.4"
  }
 },
 "nbformat": 4,
 "nbformat_minor": 2
}
