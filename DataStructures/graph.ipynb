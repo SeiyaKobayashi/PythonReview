{
 "cells": [
  {
   "cell_type": "code",
   "execution_count": 1,
   "metadata": {},
   "outputs": [],
   "source": [
    "# BFS traversal of a graph\n",
    "def bfs(graph, start):\n",
    "    visited, queue = {start}, [start]\n",
    "    while queue:\n",
    "        node = queue.pop(0)\n",
    "        print(node, end=' ')\n",
    "        for neighbor in graph[node]:\n",
    "            if neighbor not in visited:\n",
    "                visited.add(neighbor)\n",
    "                queue.append(neighbor)"
   ]
  },
  {
   "cell_type": "code",
   "execution_count": 2,
   "metadata": {},
   "outputs": [
    {
     "name": "stdout",
     "output_type": "stream",
     "text": [
      "BFS traversal: 1 2 3 4 5 6 "
     ]
    }
   ],
   "source": [
    "g = {1: [2, 3], 2: [1, 4, 5], 3: [1, 5], 4: [2, 5, 6], 5: [2, 3, 4, 6], 6: [4, 5]}\n",
    "\n",
    "print(\"BFS traversal:\", end=' ')\n",
    "bfs(g, 1)"
   ]
  },
  {
   "cell_type": "code",
   "execution_count": 3,
   "metadata": {},
   "outputs": [],
   "source": [
    "# Recursive DFS traversal of a graph\n",
    "def dfs_recur(graph, node, visited=[]):\n",
    "    visited.append(node)\n",
    "    for neighbor in graph[node]:\n",
    "        if neighbor not in visited:\n",
    "            visited = dfs_recur(graph, neighbor, visited)\n",
    "    return visited"
   ]
  },
  {
   "cell_type": "code",
   "execution_count": 4,
   "metadata": {},
   "outputs": [
    {
     "name": "stdout",
     "output_type": "stream",
     "text": [
      "DFS (recursive) traversal: [1, 2, 4, 5, 3, 6]\n"
     ]
    }
   ],
   "source": [
    "g = {1: [2, 3], 2: [1, 4, 5], 3: [1, 5], 4: [2, 5, 6], 5: [2, 3, 4, 6], 6: [4, 5]}\n",
    "\n",
    "print(\"DFS (recursive) traversal:\", end=' ')\n",
    "print(dfs_recur(g, 1))"
   ]
  },
  {
   "cell_type": "code",
   "execution_count": 5,
   "metadata": {},
   "outputs": [],
   "source": [
    "# Iterative DFS traversal of a graph\n",
    "def dfs_iter(graph, start):\n",
    "    visited, stack = {start}, [start]\n",
    "    while stack:\n",
    "        node = stack.pop()\n",
    "        print(node, end=' ')\n",
    "        for neighbor in graph[node]:\n",
    "            if neighbor not in visited:\n",
    "                visited.add(neighbor)\n",
    "                stack.append(neighbor)"
   ]
  },
  {
   "cell_type": "code",
   "execution_count": 6,
   "metadata": {},
   "outputs": [
    {
     "name": "stdout",
     "output_type": "stream",
     "text": [
      "DFS (iterative) traversal: 1 3 5 6 4 2 "
     ]
    }
   ],
   "source": [
    "g = {1: [2, 3], 2: [1, 4, 5], 3: [1, 5], 4: [2, 5, 6], 5: [2, 3, 4, 6], 6: [4, 5]}\n",
    "\n",
    "print(\"DFS (iterative) traversal:\", end=' ')\n",
    "dfs_iter(g, 1)"
   ]
  }
 ],
 "metadata": {
  "kernelspec": {
   "display_name": "Python 3",
   "language": "python",
   "name": "python3"
  },
  "language_info": {
   "codemirror_mode": {
    "name": "ipython",
    "version": 3
   },
   "file_extension": ".py",
   "mimetype": "text/x-python",
   "name": "python",
   "nbconvert_exporter": "python",
   "pygments_lexer": "ipython3",
   "version": "3.6.4"
  }
 },
 "nbformat": 4,
 "nbformat_minor": 2
}
