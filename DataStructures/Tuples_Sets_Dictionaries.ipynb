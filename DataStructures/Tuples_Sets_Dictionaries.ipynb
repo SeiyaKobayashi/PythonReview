{
 "cells": [
  {
   "cell_type": "code",
   "execution_count": 1,
   "metadata": {},
   "outputs": [
    {
     "name": "stdout",
     "output_type": "stream",
     "text": [
      "t1 t2:  (1, 2, 3) (1, 2, 3)\n",
      "<class 'tuple'>\n",
      "x y:  1 2\n",
      "ID(x):  4415112528\n",
      "ID(y):  4415112560\n",
      "x y:  2 1\n",
      "ID(x):  4415112560\n",
      "ID(y):  4415112528\n"
     ]
    }
   ],
   "source": [
    "# Tuples <1>\n",
    "\n",
    "# Create tuples \n",
    "t1 = (1, 2, 3)\n",
    "t2 = tuple([1, 2, 3])\n",
    "print(\"t1 t2: \", t1, t2)\n",
    "\n",
    "# t1[0] = 4     # Will crash (bc tuples are immutable)\n",
    "\n",
    "# Tuple assignment\n",
    "(x, y) = (1, 2)\n",
    "print(type((y, x)))\n",
    "print(\"x y: \", x, y)\n",
    "print(\"ID(x): \", id(x))\n",
    "print(\"ID(y): \", id(y))\n",
    "\n",
    "# Swapping\n",
    "(x, y) = (y, x)\n",
    "print(\"x y: \", x, y)\n",
    "print(\"ID(x): \", id(x))\n",
    "print(\"ID(y): \", id(y))"
   ]
  },
  {
   "cell_type": "code",
   "execution_count": 2,
   "metadata": {},
   "outputs": [
    {
     "name": "stdout",
     "output_type": "stream",
     "text": [
      "a\n",
      "('a', 'b', 'c')\n",
      "('i', 'j', 'k')\n",
      "(2,)            with ID: 4458814376\n",
      "(2, 2, 2, 2)    with ID: 4459428104\n",
      "(2, 2, 2, 2, 9) with ID: 4458698888\n",
      "Number of 3:  2\n",
      " Index of 2:  1\n"
     ]
    }
   ],
   "source": [
    "# Tuples <2>\n",
    "\n",
    "t1 = (\"a\", \"b\", \"c\")\n",
    "print(t1[0])\n",
    "# t1[0] = \"j\"        # Error\n",
    "print(t1)\n",
    "t1 = (\"i\", \"j\", \"k\")\n",
    "print(t1)\n",
    "\n",
    "t2 = (2, )\n",
    "print(t2, end=\"            with ID: \")\n",
    "print(id(t2))\n",
    "t2 *= 4       # t2 = t2 * 4\n",
    "print(t2, end=\"    with ID: \")\n",
    "print(id(t2))\n",
    "t2 += (9, )       # t2 = t2 + (9, )\n",
    "print(t2, end=\" with ID: \")\n",
    "print(id(t2))\n",
    "\n",
    "t3 = (1, 2, 3, 3, 4)\n",
    "print(\"Number of 3: \", t3.count(3))\n",
    "print(\" Index of 2: \", t3.index(2))"
   ]
  },
  {
   "cell_type": "code",
   "execution_count": 3,
   "metadata": {},
   "outputs": [
    {
     "name": "stdout",
     "output_type": "stream",
     "text": [
      "s1:  {1, 2, 3}\n",
      "s2:  {'a', 'b', 'c'}\n",
      "a b c "
     ]
    }
   ],
   "source": [
    "# Sets <1>\n",
    "\n",
    "# Create a statically-allocated set\n",
    "s1 = {1, 1, 2, 3}\n",
    "print(\"s1: \", s1)\n",
    "\n",
    "# Create a set from a list\n",
    "s2 = set([\"a\", \"b\", \"c\"])\n",
    "print(\"s2: \", s2)\n",
    "\n",
    "# Looping over a set\n",
    "for item in s2:\n",
    "    print(item, end=\" \")\n",
    "    \n",
    "# print(s2[0])       # Error"
   ]
  },
  {
   "cell_type": "code",
   "execution_count": 4,
   "metadata": {},
   "outputs": [
    {
     "name": "stdout",
     "output_type": "stream",
     "text": [
      "{1, 2, 3}\n",
      "ID(1):  4459500712\n",
      "{1, 2, 3, 5}\n",
      "ID(2):  4459500712\n",
      "{2, 3, 5}\n",
      "ID(3):  4459500712\n",
      "None\n",
      "ID(4):  4414832504\n"
     ]
    }
   ],
   "source": [
    "# Dictionaries <1>\n",
    "\n",
    "s = {1, 1, 2, 3}\n",
    "print(s)\n",
    "print(\"ID(1): \", id(s))\n",
    "\n",
    "s.add(5)\n",
    "print(s)\n",
    "print(\"ID(2): \", id(s))\n",
    "\n",
    "s.remove(1)\n",
    "print(s)\n",
    "print(\"ID(3): \", id(s))\n",
    "\n",
    "s = s.add(9)\n",
    "print(s)\n",
    "print(\"ID(4): \", id(s))\n",
    "\n",
    "# s = set([[\"elements\"], [\"cannot\"], [\"be\"], [\"mutable\"]])\n",
    "# print(s)"
   ]
  },
  {
   "cell_type": "code",
   "execution_count": 5,
   "metadata": {},
   "outputs": [
    {
     "name": "stdout",
     "output_type": "stream",
     "text": [
      "hash(15):  15\n",
      "hash(15.5):\n",
      "1152921504606846991 1152921504606846991 1152921504606846991 1152921504606846991 1152921504606846991 \n",
      "hash((1,2,3)) 2528502973977326415\n"
     ]
    }
   ],
   "source": [
    "# Dictionaries <2>: Hash Function\n",
    "\n",
    "print(\"hash(15): \", hash(15))\n",
    "\n",
    "print(\"hash(15.5):\")\n",
    "for i in range(5):\n",
    "    print(hash(15.5), end=\" \")\n",
    "\n",
    "print()\n",
    "\n",
    "print(\"hash((1,2,3))\", hash((1,2,3)))"
   ]
  },
  {
   "cell_type": "code",
   "execution_count": 6,
   "metadata": {},
   "outputs": [
    {
     "name": "stdout",
     "output_type": "stream",
     "text": [
      "{'k1': 10, 'k2': 20, 'k3': 30}\n",
      "{'k1': 10, 'k2': 20, 'k3': 30}\n",
      "{'k1': 10, 'k2': 20, 'k3': 30}\n"
     ]
    }
   ],
   "source": [
    "# Dictionaries <3>\n",
    "\n",
    "# They all create dictionaries with same key/value pairs\n",
    "d1 = {\"k1\": 10, \"k2\": 20, \"k3\": 30}\n",
    "d2 = dict([(\"k1\", 10), (\"k2\", 20), (\"k3\", 30)])\n",
    "d3 = dict([[\"k1\", 10], [\"k2\", 20], [\"k3\", 30]])\n",
    "print(d1) \n",
    "print(d2)\n",
    "print(d3)"
   ]
  },
  {
   "cell_type": "code",
   "execution_count": 7,
   "metadata": {},
   "outputs": [
    {
     "name": "stdout",
     "output_type": "stream",
     "text": [
      "10\n",
      "40\n",
      "{'k1': 10, 'k3': 30, 'k4': 40}\n",
      "k1 10\n",
      "k3 30\n",
      "k4 40\n"
     ]
    }
   ],
   "source": [
    "# Dictionaries <4>\n",
    "\n",
    "d = {\"k1\": 10, \"k2\": 20, \"k3\": 30}\n",
    "\n",
    "print(d[\"k1\"])\n",
    "# print(d[\"z\"])             # Error (no such key)\n",
    "print(d.get(\"z\", 40))       # Solves the above error\n",
    "\n",
    "# Add a new key/value pair\n",
    "d[\"k4\"] = 40\n",
    "\n",
    "# Delete a pair given a key\n",
    "del d[\"k2\"]\n",
    "\n",
    "print(d)\n",
    "\n",
    "# Loop over the keys\n",
    "for k in d:\n",
    "    print(k, d[k])"
   ]
  }
 ],
 "metadata": {
  "kernelspec": {
   "display_name": "Python 3",
   "language": "python",
   "name": "python3"
  },
  "language_info": {
   "codemirror_mode": {
    "name": "ipython",
    "version": 3
   },
   "file_extension": ".py",
   "mimetype": "text/x-python",
   "name": "python",
   "nbconvert_exporter": "python",
   "pygments_lexer": "ipython3",
   "version": "3.6.4"
  }
 },
 "nbformat": 4,
 "nbformat_minor": 2
}
