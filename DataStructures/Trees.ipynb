{
 "cells": [
  {
   "cell_type": "markdown",
   "metadata": {},
   "source": [
    "### Binary Tree"
   ]
  },
  {
   "cell_type": "code",
   "execution_count": 1,
   "metadata": {},
   "outputs": [],
   "source": [
    "class Node:\n",
    "    def __init__(self, val):\n",
    "        self.left  = None\n",
    "        self.right = None\n",
    "        self.val   = val"
   ]
  },
  {
   "cell_type": "code",
   "execution_count": 2,
   "metadata": {},
   "outputs": [],
   "source": [
    "class Tree:\n",
    "    def __init__(self, val):\n",
    "        self.root = Node(val)\n",
    "    \n",
    "    def printPreOrder(self, root): \n",
    "        if root:\n",
    "            print(root.val, end=' ')\n",
    "            self.printPreOrder(root.left)\n",
    "            self.printPreOrder(root.right)\n",
    "    \n",
    "    def printInOrder(self, root): \n",
    "        if root:\n",
    "            self.printPreOrder(root.left)\n",
    "            print(root.val, end=' ')\n",
    "            self.printPreOrder(root.right)\n",
    "            \n",
    "    def printPostOrder(self, root): \n",
    "        if root:\n",
    "            self.printPreOrder(root.left)\n",
    "            self.printPreOrder(root.right)\n",
    "            print(root.val, end=' ')\n",
    "\n",
    "    def printLevelOrder(self):\n",
    "        if self.root == None:\n",
    "            return\n",
    "\n",
    "        queue = []\n",
    "        queue.append(self.root)\n",
    "        \n",
    "        while(len(queue) > 0):\n",
    "            print(queue[0].val, end=' ')\n",
    "            currNode = queue.pop(0)\n",
    "            \n",
    "            if currNode.left != None:\n",
    "                queue.append(currNode.left)\n",
    "                \n",
    "            if currNode.right != None:\n",
    "                queue.append(currNode.right) "
   ]
  },
  {
   "cell_type": "code",
   "execution_count": 3,
   "metadata": {},
   "outputs": [
    {
     "name": "stdout",
     "output_type": "stream",
     "text": [
      "5 7 8 10 11 3 9 \n",
      "7 8 5 10 11 3 9 \n",
      "7 8 10 11 3 9 5 \n",
      "5 7 10 8 11 3 9 "
     ]
    }
   ],
   "source": [
    "tree = Tree(5)\n",
    "tree.root.left = Node(7)\n",
    "tree.root.right = Node(10)\n",
    "tree.root.left.left = Node(8)\n",
    "tree.root.right.left = Node(11)\n",
    "tree.root.right.right = Node(3)\n",
    "tree.root.right.right.left = Node(9)\n",
    "\n",
    "tree.printPreOrder(tree.root)\n",
    "print()\n",
    "tree.printInOrder(tree.root)\n",
    "print()\n",
    "tree.printPostOrder(tree.root)\n",
    "print()\n",
    "tree.printLevelOrder()"
   ]
  }
 ],
 "metadata": {
  "kernelspec": {
   "display_name": "Python 3",
   "language": "python",
   "name": "python3"
  },
  "language_info": {
   "codemirror_mode": {
    "name": "ipython",
    "version": 3
   },
   "file_extension": ".py",
   "mimetype": "text/x-python",
   "name": "python",
   "nbconvert_exporter": "python",
   "pygments_lexer": "ipython3",
   "version": "3.6.4"
  }
 },
 "nbformat": 4,
 "nbformat_minor": 2
}
