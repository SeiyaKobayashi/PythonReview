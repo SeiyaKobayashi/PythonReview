{
 "cells": [
  {
   "cell_type": "code",
   "execution_count": null,
   "metadata": {},
   "outputs": [],
   "source": [
    "# FileIO <1>\n",
    "\n",
    "path = \"groundwork.txt\"\n",
    "\n",
    "# Both do the same thing\n",
    "\n",
    "# 1: open() --> close()\n",
    "f = open(path)\n",
    "print(type(f))\n",
    "f.close()\n",
    "\n",
    "# 2: with open()\n",
    "with open(path) as f:\n",
    "    print(type(f))"
   ]
  },
  {
   "cell_type": "code",
   "execution_count": null,
   "metadata": {},
   "outputs": [],
   "source": [
    "# FileIO <2>\n",
    "\n",
    "def readFile(path):\n",
    "    with open(path, mode=\"r\") as f:\n",
    "        return f.read()\n",
    "    \n",
    "def readFileByLine(path):\n",
    "    with open(path, mode=\"r\") as f:\n",
    "        return f.readline()\n",
    "    \n",
    "def readFileAsList(path):\n",
    "    with open(path, mode=\"r\") as f:\n",
    "        return f.readlines()\n",
    "    \n",
    "print(\"read(): \", readFile(\"groundwork.txt\"), \"\\n\")\n",
    "print(\"readline(): \", readFileByLine(\"groundwork.txt\"))\n",
    "print(\"readlines(): \", readFileAsList(\"groundwork.txt\"))"
   ]
  },
  {
   "cell_type": "code",
   "execution_count": null,
   "metadata": {},
   "outputs": [],
   "source": [
    "# FileIO <3>\n",
    "\n",
    "def appendToFile(path):\n",
    "    with open(path, mode=\"a\") as f:\n",
    "        f.write(\"\\nHello, Descartes!\")\n",
    "\n",
    "appendToFile(\"meditations_1.txt\")"
   ]
  }
 ],
 "metadata": {
  "kernelspec": {
   "display_name": "Python 3",
   "language": "python",
   "name": "python3"
  },
  "language_info": {
   "codemirror_mode": {
    "name": "ipython",
    "version": 3
   },
   "file_extension": ".py",
   "mimetype": "text/x-python",
   "name": "python",
   "nbconvert_exporter": "python",
   "pygments_lexer": "ipython3",
   "version": "3.6.4"
  }
 },
 "nbformat": 4,
 "nbformat_minor": 2
}
