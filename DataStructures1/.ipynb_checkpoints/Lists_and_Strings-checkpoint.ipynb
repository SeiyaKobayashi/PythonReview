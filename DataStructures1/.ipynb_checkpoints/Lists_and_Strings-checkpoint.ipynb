{
 "cells": [
  {
   "cell_type": "code",
   "execution_count": 1,
   "metadata": {},
   "outputs": [
    {
     "name": "stdout",
     "output_type": "stream",
     "text": [
      "87\n",
      "69\n",
      "68\n"
     ]
    }
   ],
   "source": [
    "# Lists <1>\n",
    "\n",
    "examScores = [87, 79, 95, 69, 63, 76, 88, 97, 55, 68]\n",
    "\n",
    "print(examScores[0])\n",
    "print(examScores[3])\n",
    "print(examScores[9])\n",
    "# print(examScores[10])       # Error!"
   ]
  },
  {
   "cell_type": "code",
   "execution_count": 2,
   "metadata": {},
   "outputs": [
    {
     "name": "stdout",
     "output_type": "stream",
     "text": [
      "87 79 95 69 63 76 88 97 55 68 "
     ]
    }
   ],
   "source": [
    "# Lists <2>\n",
    "\n",
    "examScores = [87, 79, 95, 69, 63, 76, 88, 97, 55, 68]\n",
    "\n",
    "for i in range(len(examScores)):       # len() returns the length of a list\n",
    "    print(examScores[i], end=\" \")"
   ]
  },
  {
   "cell_type": "code",
   "execution_count": 3,
   "metadata": {},
   "outputs": [
    {
     "name": "stdout",
     "output_type": "stream",
     "text": [
      "The average score is:  77.7\n"
     ]
    }
   ],
   "source": [
    "# Lists <3>\n",
    "\n",
    "examScores = [87, 79, 95, 69, 63, 76, 88, 97, 55, 68]\n",
    "\n",
    "numOfStudents = len(examScores)\n",
    "total = 0\n",
    "for score in examScores:\n",
    "    total += score\n",
    "print(\"The average score is: \", total / numOfStudents)"
   ]
  },
  {
   "cell_type": "code",
   "execution_count": 4,
   "metadata": {},
   "outputs": [
    {
     "name": "stdout",
     "output_type": "stream",
     "text": [
      "a:  []\n",
      "b:  []\n",
      "a(after adding new elements): [1, 2, 3, 4, 5]\n",
      "b(after adding new elements): [6, 7, 8, 9, 10]\n",
      "a(after removing new elements): [1, 2, 3]\n",
      "b(after removing new elements): [8, 9, 10]\n"
     ]
    }
   ],
   "source": [
    "# Lists <4>\n",
    "\n",
    "# Create empty lists\n",
    "a = []\n",
    "b = list()\n",
    "\n",
    "print(\"a: \", a)\n",
    "print(\"b: \", b)\n",
    "\n",
    "# Append new elements to the lists (three ways to add a new element)\n",
    "a.append(1)\n",
    "a += [2, 3]\n",
    "a.extend([4, 5])\n",
    "b += [6, 7, 8, 9, 10]\n",
    "\n",
    "print(\"a(after adding new elements):\", a)\n",
    "print(\"b(after adding new elements):\", b)\n",
    "\n",
    "# Remove elements from the lists (two ways to remove an element)\n",
    "a.remove(4)\n",
    "a.pop()\n",
    "b.remove(6)\n",
    "b.pop(0)\n",
    "\n",
    "print(\"a(after removing new elements):\", a)\n",
    "print(\"b(after removing new elements):\", b)"
   ]
  },
  {
   "cell_type": "code",
   "execution_count": 5,
   "metadata": {},
   "outputs": [
    {
     "name": "stdout",
     "output_type": "stream",
     "text": [
      "[79, 95, 69]\n",
      "[95, 63, 88, 55]\n",
      "Length of a list:  10\n",
      "Sum of a list:  777\n",
      "Min of a list:  55\n",
      "Max of a list:  97\n",
      "Sorted list:  [55, 63, 68, 69, 76, 79, 87, 88, 95, 97]\n",
      "Reversely sorted list:  [97, 95, 88, 87, 79, 76, 69, 68, 63, 55]\n"
     ]
    }
   ],
   "source": [
    "# Lists <5>\n",
    "\n",
    "examScores = [87, 79, 95, 69, 63, 76, 88, 97, 55, 68]\n",
    "\n",
    "# list slicing --> [start(inclusive), end(exclusive), step]\n",
    "print(examScores[1:4])\n",
    "print(examScores[2:9:2])\n",
    "\n",
    "# List built-in functions\n",
    "print(\"Length of a list: \", len(examScores))\n",
    "print(\"Sum of a list: \", sum(examScores))\n",
    "print(\"Min of a list: \", min(examScores))\n",
    "print(\"Max of a list: \", max(examScores))\n",
    "examScores.sort()\n",
    "print(\"Sorted list: \", examScores)\n",
    "examScores.reverse()\n",
    "print(\"Reversely sorted list: \", examScores)"
   ]
  },
  {
   "cell_type": "code",
   "execution_count": 6,
   "metadata": {},
   "outputs": [
    {
     "name": "stdout",
     "output_type": "stream",
     "text": [
      "[45, 28, 8, 6]\n",
      "[45, 28, 8, 6]\n"
     ]
    }
   ],
   "source": [
    "# Lists <6>: List Mutability (1)\n",
    "\n",
    "a = [1, 3, 8, 6]       # Create a new list\n",
    "b = a       # Create an alias to the list\n",
    "\n",
    "a[0] = 45\n",
    "b[1] = 28\n",
    "print(a)\n",
    "print(b)"
   ]
  },
  {
   "cell_type": "code",
   "execution_count": 8,
   "metadata": {},
   "outputs": [
    {
     "name": "stdout",
     "output_type": "stream",
     "text": [
      "x:  [54, 3, 8, 6]\n",
      "y:  [1, 2, 1]\n"
     ]
    }
   ],
   "source": [
    "# Lists <7>: List Mutability (2)\n",
    "\n",
    "def f(x):\n",
    "    x[0] = 54\n",
    "\n",
    "x = [1, 3, 8, 6]\n",
    "f(x)\n",
    "print(\"x: \", x)\n",
    "\n",
    "def g(y):\n",
    "    y[0] = 1\n",
    "    y = [5, 2, 0]\n",
    "    y[0] = 4\n",
    "\n",
    "y = [3, 2, 1]\n",
    "g(y)\n",
    "print(\"y: \", y)"
   ]
  },
  {
   "cell_type": "code",
   "execution_count": 9,
   "metadata": {},
   "outputs": [
    {
     "name": "stdout",
     "output_type": "stream",
     "text": [
      "ID(y_initial) 4502167240\n",
      "ID(y1):  4502167240\n",
      "ID(y2):  4502167368\n",
      "y:  [1, 2, 1]\n"
     ]
    }
   ],
   "source": [
    "# Lists <8>: List Mutability (3)\n",
    "\n",
    "def g(y):\n",
    "    y[0] = 1\n",
    "    print(\"ID(y1): \", id(y))\n",
    "    y = [5, 2, 0]\n",
    "    y[0] = 4\n",
    "    print(\"ID(y2): \", id(y))\n",
    "\n",
    "y = [3, 2, 1]\n",
    "print(\"ID(y_initial)\", id(y))\n",
    "g(y)\n",
    "print(\"y: \", y)"
   ]
  },
  {
   "cell_type": "code",
   "execution_count": 10,
   "metadata": {},
   "outputs": [
    {
     "name": "stdout",
     "output_type": "stream",
     "text": [
      "Initially: \n",
      "a == b:  True\n",
      "a is b : True\n",
      "a == c:  True\n",
      "a is c : False\n",
      "\n",
      "After changing b[0] to 23: \n",
      "a:  [23, 3, 8, 6]\n",
      "b:  [23, 3, 8, 6]\n",
      "c:  [1, 3, 8, 6]\n",
      "a == b:  True\n",
      "a is b:  True\n",
      "a == c:  False\n",
      "a is c:  False\n"
     ]
    }
   ],
   "source": [
    "# Lists <9>: `==` vs. `is`\n",
    "\n",
    "a = [1, 3, 8, 6]       # Initialize a list\n",
    "b = a                  # Create an alias to the list\n",
    "c = [1, 3, 8, 6]       # Create a different list with the same elements\n",
    "\n",
    "# a and b are references (aliases) to the same list (object)\n",
    "# c is a reference to a different but equal list\n",
    "print(\"Initially: \")\n",
    "print(\"a == b: \", a==b)\n",
    "print(\"a is b :\", a is b)\n",
    "print(\"a == c: \", a==c)\n",
    "print(\"a is c :\", a is c)\n",
    "\n",
    "print()\n",
    "\n",
    "b[0] = 23\n",
    "print(\"After changing b[0] to 23: \")\n",
    "print(\"a: \", a)\n",
    "print(\"b: \", b)\n",
    "print(\"c: \", c)\n",
    "print(\"a == b: \", a==b)\n",
    "print(\"a is b: \", a is b)\n",
    "print(\"a == c: \", a==c)\n",
    "print(\"a is c: \", a is c)"
   ]
  },
  {
   "cell_type": "code",
   "execution_count": 11,
   "metadata": {},
   "outputs": [
    {
     "name": "stdout",
     "output_type": "stream",
     "text": [
      "a b c:  [2, 4] [2, 4] [2, 4]\n",
      "a b c:  [9, 4] [9, 4] [2, 4]\n"
     ]
    }
   ],
   "source": [
    "# Lists <10>: copy vs. alias\n",
    "\n",
    "import copy\n",
    "\n",
    "a = [2, 4]\n",
    "b = a              # Aliasing \n",
    "c = copy.copy(a)   # Copying\n",
    "\n",
    "print(\"a b c: \", a, b, c)\n",
    "\n",
    "a[0] = 9\n",
    "print(\"a b c: \", a, b, c)"
   ]
  },
  {
   "cell_type": "code",
   "execution_count": 12,
   "metadata": {},
   "outputs": [
    {
     "name": "stdout",
     "output_type": "stream",
     "text": [
      "[0, 1, 2, 3, 4, 5, 6, 7, 8, 9, 10, 11, 12, 13, 14, 15, 16, 17, 18, 19]\n",
      "[0, 1, 2, 3, 4, 5, 6, 7, 8, 9, 10, 11, 12, 13, 14, 15, 16, 17, 18, 19]\n",
      "[0, 3, 6, 9, 12, 15, 18]\n",
      "[0, 0, 0, 3, 0, 0, 6, 0, 0, 9, 0, 0, 12, 0, 0, 15, 0, 0, 18, 0]\n"
     ]
    }
   ],
   "source": [
    "# Lists <11>: List Comprehension\n",
    "\n",
    "# Normal (long) way\n",
    "a = []\n",
    "for i in range(20):\n",
    "    a.append(i)\n",
    "print(a)\n",
    "\n",
    "# List comprehension (short way)\n",
    "a = [i for i in range(20)]\n",
    "print(a)\n",
    "\n",
    "# You can also add conditionals at the end\n",
    "a = [i for i in range(20) if i%3 == 0]\n",
    "print(a)\n",
    "b = [i if i%3==0 else 0 for i in range(20)]\n",
    "print(b)"
   ]
  },
  {
   "cell_type": "code",
   "execution_count": 13,
   "metadata": {},
   "outputs": [
    {
     "name": "stdout",
     "output_type": "stream",
     "text": [
      "e\n",
      "[9, 1, 3, 8, 2]\n",
      "[729, 1, 27, 512, 8]\n",
      "[9, 1, 3]\n"
     ]
    }
   ],
   "source": [
    "# Lists <12>: Lambda Expression\n",
    "\n",
    "# Regular usage of lambda\n",
    "print((lambda x: x[1])(\"Hello\"))\n",
    "\n",
    "l = [9, 1, 3, 8, 2]\n",
    "\n",
    "print(l)\n",
    "\n",
    "# Both map() and filter() return iterators, so convert them to lists\n",
    "print(list(map(lambda x: x ** 3, l)))\n",
    "print(list(filter(lambda x: x % 2 != 0, l)))"
   ]
  },
  {
   "cell_type": "code",
   "execution_count": 14,
   "metadata": {},
   "outputs": [
    {
     "name": "stdout",
     "output_type": "stream",
     "text": [
      "<list_iterator object at 0x10c5e5588>\n",
      "87\n",
      "79\n",
      "95\n"
     ]
    },
    {
     "ename": "StopIteration",
     "evalue": "",
     "output_type": "error",
     "traceback": [
      "\u001b[0;31m---------------------------------------------------------------------------\u001b[0m",
      "\u001b[0;31mStopIteration\u001b[0m                             Traceback (most recent call last)",
      "\u001b[0;32m<ipython-input-14-6b44525c8346>\u001b[0m in \u001b[0;36m<module>\u001b[0;34m()\u001b[0m\n\u001b[1;32m      8\u001b[0m \u001b[0mprint\u001b[0m\u001b[0;34m(\u001b[0m\u001b[0mnext\u001b[0m\u001b[0;34m(\u001b[0m\u001b[0miter_obj\u001b[0m\u001b[0;34m)\u001b[0m\u001b[0;34m)\u001b[0m\u001b[0;34m\u001b[0m\u001b[0m\n\u001b[1;32m      9\u001b[0m \u001b[0mprint\u001b[0m\u001b[0;34m(\u001b[0m\u001b[0miter_obj\u001b[0m\u001b[0;34m.\u001b[0m\u001b[0m__next__\u001b[0m\u001b[0;34m(\u001b[0m\u001b[0;34m)\u001b[0m\u001b[0;34m)\u001b[0m\u001b[0;34m\u001b[0m\u001b[0m\n\u001b[0;32m---> 10\u001b[0;31m \u001b[0mprint\u001b[0m\u001b[0;34m(\u001b[0m\u001b[0miter_obj\u001b[0m\u001b[0;34m.\u001b[0m\u001b[0m__next__\u001b[0m\u001b[0;34m(\u001b[0m\u001b[0;34m)\u001b[0m\u001b[0;34m)\u001b[0m\u001b[0;34m\u001b[0m\u001b[0m\n\u001b[0m",
      "\u001b[0;31mStopIteration\u001b[0m: "
     ]
    }
   ],
   "source": [
    "# Iterators <1>\n",
    "\n",
    "examScores = [87, 79, 95]\n",
    "\n",
    "iter_obj = iter(examScores)\n",
    "print(iter_obj)\n",
    "print(next(iter_obj))\n",
    "print(next(iter_obj))\n",
    "print(iter_obj.__next__())\n",
    "print(iter_obj.__next__())"
   ]
  },
  {
   "cell_type": "code",
   "execution_count": 15,
   "metadata": {},
   "outputs": [
    {
     "name": "stdout",
     "output_type": "stream",
     "text": [
      "The average score is:  77.7\n"
     ]
    }
   ],
   "source": [
    "# Iterators <2>\n",
    "\n",
    "examScores = [87, 79, 95, 69, 63, 76, 88, 97, 55, 68]\n",
    "numOfStudents = len(examScores)\n",
    "total = 0\n",
    "\n",
    "# This is how for loop actually works\n",
    "iter_obj = iter(examScores)        # Create an iterator object from the list (iterable object)\n",
    "while True:\n",
    "    try:\n",
    "        element = next(iter_obj)       # Get the next item\n",
    "        total += element\n",
    "    except StopIteration:       # After all the items are exhausted\n",
    "        break\n",
    "print(\"The average score is: \", total / numOfStudents)"
   ]
  },
  {
   "cell_type": "code",
   "execution_count": 16,
   "metadata": {},
   "outputs": [
    {
     "name": "stdout",
     "output_type": "stream",
     "text": [
      "1\n",
      "2\n"
     ]
    },
    {
     "ename": "StopIteration",
     "evalue": "",
     "output_type": "error",
     "traceback": [
      "\u001b[0;31m---------------------------------------------------------------------------\u001b[0m",
      "\u001b[0;31mStopIteration\u001b[0m                             Traceback (most recent call last)",
      "\u001b[0;32m<ipython-input-16-6d87fb0e4e6b>\u001b[0m in \u001b[0;36m<module>\u001b[0;34m()\u001b[0m\n\u001b[1;32m      8\u001b[0m \u001b[0mprint\u001b[0m\u001b[0;34m(\u001b[0m\u001b[0mnext\u001b[0m\u001b[0;34m(\u001b[0m\u001b[0mg1\u001b[0m\u001b[0;34m)\u001b[0m\u001b[0;34m)\u001b[0m\u001b[0;34m\u001b[0m\u001b[0m\n\u001b[1;32m      9\u001b[0m \u001b[0mprint\u001b[0m\u001b[0;34m(\u001b[0m\u001b[0mg1\u001b[0m\u001b[0;34m.\u001b[0m\u001b[0m__next__\u001b[0m\u001b[0;34m(\u001b[0m\u001b[0;34m)\u001b[0m\u001b[0;34m)\u001b[0m\u001b[0;34m\u001b[0m\u001b[0m\n\u001b[0;32m---> 10\u001b[0;31m \u001b[0mprint\u001b[0m\u001b[0;34m(\u001b[0m\u001b[0mnext\u001b[0m\u001b[0;34m(\u001b[0m\u001b[0mg1\u001b[0m\u001b[0;34m)\u001b[0m\u001b[0;34m)\u001b[0m\u001b[0;34m\u001b[0m\u001b[0m\n\u001b[0m",
      "\u001b[0;31mStopIteration\u001b[0m: "
     ]
    }
   ],
   "source": [
    "# Generators <1>\n",
    "\n",
    "def generator():\n",
    "    yield 1\n",
    "    yield 2\n",
    "    \n",
    "g1 = generator()\n",
    "print(next(g1))\n",
    "print(g1.__next__())\n",
    "print(next(g1))"
   ]
  },
  {
   "cell_type": "code",
   "execution_count": 17,
   "metadata": {},
   "outputs": [
    {
     "name": "stdout",
     "output_type": "stream",
     "text": [
      "1\n",
      "2\n",
      "3\n"
     ]
    }
   ],
   "source": [
    "# Generators <2>\n",
    "\n",
    "def generator():\n",
    "    yield 1\n",
    "    yield 2\n",
    "    yield 3\n",
    "    \n",
    "for item in generator():\n",
    "    print(item)"
   ]
  },
  {
   "cell_type": "code",
   "execution_count": 18,
   "metadata": {},
   "outputs": [
    {
     "name": "stdout",
     "output_type": "stream",
     "text": [
      "[1, 9, 25, 49]\n",
      "<generator object <genexpr> at 0x10c59a780>\n",
      "1\n",
      "9\n",
      "25\n",
      "49\n"
     ]
    }
   ],
   "source": [
    "# Generators <3>\n",
    "\n",
    "l = [1, 3, 5, 7]\n",
    "\n",
    "print([ x**2 for x in l ])       # List comprehension\n",
    "\n",
    "g = (x**2 for x in l)            # Generator expression\n",
    "print(g)\n",
    "for item in g:\n",
    "    print(item)"
   ]
  },
  {
   "cell_type": "code",
   "execution_count": 19,
   "metadata": {},
   "outputs": [
    {
     "name": "stdout",
     "output_type": "stream",
     "text": [
      "0\n",
      "2\n"
     ]
    }
   ],
   "source": [
    "# Generators <4>\n",
    "\n",
    "def even(n=0):\n",
    "    while True:\n",
    "        yield n\n",
    "        n += 2\n",
    "\n",
    "e = even()\n",
    "print(next(e))\n",
    "print(next(e))"
   ]
  },
  {
   "cell_type": "code",
   "execution_count": 20,
   "metadata": {},
   "outputs": [
    {
     "name": "stdout",
     "output_type": "stream",
     "text": [
      "Hello.\n",
      "Hello.\n",
      "Hello.\n",
      "Hello.\n",
      "She said 'I love you.'\n"
     ]
    }
   ],
   "source": [
    "# Strings <1>\n",
    "\n",
    "print('Hello.')\n",
    "print(\"Hello.\")\n",
    "print('''Hello.''')\n",
    "print(\"\"\"Hello.\"\"\")\n",
    "# print(\"Hello.')       # Error\n",
    "\n",
    "print(\"She said 'I love you.'\")"
   ]
  },
  {
   "cell_type": "code",
   "execution_count": 21,
   "metadata": {},
   "outputs": [
    {
     "name": "stdout",
     "output_type": "stream",
     "text": [
      "abcde\n",
      "b\n",
      "d\n",
      "bcd\n"
     ]
    }
   ],
   "source": [
    "# Strings <2>\n",
    "\n",
    "s = \"abcde\"\n",
    "\n",
    "print(s)\n",
    "print(s[1])\n",
    "print(s[-2])\n",
    "print(s[1:4])"
   ]
  },
  {
   "cell_type": "code",
   "execution_count": 22,
   "metadata": {},
   "outputs": [
    {
     "name": "stdout",
     "output_type": "stream",
     "text": [
      "Double-quote: \"\n",
      "Backslash: \\\n",
      "Newline: a\n",
      "b\n",
      "c\n",
      "Tab: a\tb\tc\n",
      "\n",
      "s1:  123\t456\n",
      "s2:  123  456\n",
      "Length of s1:  7\n",
      "Length of s2:  8\n",
      "s1 == s2?:  False\n"
     ]
    }
   ],
   "source": [
    "# Strings <3>\n",
    "\n",
    "print(\"Double-quote: \\\"\")\n",
    "print(\"Backslash: \\\\\")\n",
    "print(\"Newline: a\\nb\\nc\")\n",
    "print(\"Tab: a\\tb\\tc\")\n",
    "print()\n",
    "\n",
    "s1 = \"123\\t456\"\n",
    "s2 = \"123  456\"\n",
    "print(\"s1: \", s1)\n",
    "print(\"s2: \", s2)\n",
    "print(\"Length of s1: \", len(s1))       # 7 (not 6)\n",
    "print(\"Length of s2: \", len(s2))       # 8 (not 6)\n",
    "print(\"s1 == s2?: \", s1 == s2)"
   ]
  },
  {
   "cell_type": "code",
   "execution_count": 23,
   "metadata": {},
   "outputs": [
    {
     "name": "stdout",
     "output_type": "stream",
     "text": [
      "abcdef\n",
      "abcabcabc\n",
      "True\n",
      "False\n"
     ]
    }
   ],
   "source": [
    "# Strings <4>\n",
    "\n",
    "print(\"abc\" + \"def\")\n",
    "print(\"abc\" * 3)\n",
    "# print(\"abc\" + 3)       # Error\n",
    "print(\"ring\" in \"strings\")\n",
    "print(\"Yes\" in \"yes\")       # Case sensitive"
   ]
  },
  {
   "cell_type": "code",
   "execution_count": 24,
   "metadata": {},
   "outputs": [
    {
     "name": "stdout",
     "output_type": "stream",
     "text": [
      "0 a\n",
      "1 b\n",
      "2 c\n",
      "\n",
      "a\n",
      "b\n",
      "c\n"
     ]
    }
   ],
   "source": [
    "# Strings <5>\n",
    "\n",
    "s = \"abc\"\n",
    "\n",
    "# Looping over index\n",
    "for i in range(len(s)):\n",
    "    print(i, s[i])\n",
    "\n",
    "print()\n",
    "\n",
    "# Looping over character itself\n",
    "for char in s:\n",
    "    print(char)"
   ]
  },
  {
   "cell_type": "code",
   "execution_count": 25,
   "metadata": {},
   "outputs": [
    {
     "name": "stdout",
     "output_type": "stream",
     "text": [
      "abcd\n",
      "ID(before):  4502959808\n",
      "apcd\n",
      "ID(after):  4502966488\n"
     ]
    }
   ],
   "source": [
    "# Strings <6>: String Immutability\n",
    "\n",
    "s = \"abcd\"\n",
    "print(s)\n",
    "print(\"ID(before): \", id(s))\n",
    "# s[2] = \"p\"\n",
    "s = s[:1] + \"p\" + s[2:]\n",
    "print(s)\n",
    "print(\"ID(after): \", id(s))"
   ]
  },
  {
   "cell_type": "code",
   "execution_count": 26,
   "metadata": {},
   "outputs": [
    {
     "name": "stdout",
     "output_type": "stream",
     "text": [
      "65\n",
      "12354\n",
      "N\n",
      "C\n"
     ]
    }
   ],
   "source": [
    "# Strings <7>: Unicode\n",
    "\n",
    "print(ord(\"A\"))\n",
    "print(ord(\"あ\"))\n",
    "print(chr(78))\n",
    "print(chr(ord(\"A\") + 2))"
   ]
  },
  {
   "cell_type": "code",
   "execution_count": 27,
   "metadata": {},
   "outputs": [
    {
     "name": "stdout",
     "output_type": "stream",
     "text": [
      "My name is Lucy\n",
      "Lucy buys me a bagel.\n",
      "You exam score was 100 out of 100.\n",
      "Happy pi (3.141592) day!\n",
      "Happy pi (3.14) day!\n",
      "There were 38 dogs and 19 cats. Wow!\n"
     ]
    }
   ],
   "source": [
    "# Strings <8>: String Formatting\n",
    "\n",
    "name = \"Lucy\"\n",
    "print(\"My name is\", name)\n",
    "\n",
    "# Format a string with %s\n",
    "print(\"%s buys me a bagel.\" % name)\n",
    "\n",
    "# Format an integer with %d\n",
    "score = 100\n",
    "print(\"You exam score was %d out of 100.\" % score)\n",
    "\n",
    "# Format a float with %f\n",
    "pi = 3.141592\n",
    "print(\"Happy pi (%f) day!\" % pi)\n",
    "print(\"Happy pi (%0.2f) day!\" % pi)\n",
    "\n",
    "# Format multiple values\n",
    "dogs = 38\n",
    "cats = 19\n",
    "exclamation = \"Wow\"\n",
    "print(\"There were %d dogs and %d cats. %s!\" % (dogs, cats, exclamation))"
   ]
  },
  {
   "cell_type": "code",
   "execution_count": null,
   "metadata": {},
   "outputs": [],
   "source": []
  }
 ],
 "metadata": {
  "kernelspec": {
   "display_name": "Python 3",
   "language": "python",
   "name": "python3"
  },
  "language_info": {
   "codemirror_mode": {
    "name": "ipython",
    "version": 3
   },
   "file_extension": ".py",
   "mimetype": "text/x-python",
   "name": "python",
   "nbconvert_exporter": "python",
   "pygments_lexer": "ipython3",
   "version": "3.6.4"
  }
 },
 "nbformat": 4,
 "nbformat_minor": 2
}
