{
 "cells": [
  {
   "cell_type": "code",
   "execution_count": 1,
   "metadata": {},
   "outputs": [
    {
     "name": "stdout",
     "output_type": "stream",
     "text": [
      "Double function: \n",
      "8\n",
      "SumThree function: \n",
      "18\n",
      "return10 function: \n",
      "10\n"
     ]
    }
   ],
   "source": [
    "# Functions and Scopes <1>: Function definitions and calls\n",
    "\n",
    "# Define functions with `def __():`\n",
    "\n",
    "# Function that takes one parameter x\n",
    "def double(x):\n",
    "    print(\"Double function: \")\n",
    "    return 2 * x\n",
    "\n",
    "# Functions can take as many parameters as they need\n",
    "def sumThree(x, y, z):\n",
    "    print(\"SumThree function: \")\n",
    "    return x + y + z\n",
    "\n",
    "# Some functions don't take any parameters at all\n",
    "def return10():\n",
    "    print(\"return10 function: \")\n",
    "    return 10\n",
    "\n",
    "# You can call functions with the funciton names you've defined\n",
    "print(double(4))\n",
    "print(sumThree(1, 5, 12))\n",
    "print(return10())\n",
    "# print(return10(2))       # If the number of parameters doesn't match, it throws an error"
   ]
  },
  {
   "cell_type": "code",
   "execution_count": 2,
   "metadata": {},
   "outputs": [
    {
     "name": "stdout",
     "output_type": "stream",
     "text": [
      "11\n"
     ]
    }
   ],
   "source": [
    "# Functions and Scopes <2>: Function Compositions\n",
    "\n",
    "# Function definitions\n",
    "def f(x):\n",
    "    y = 10\n",
    "    return h(g(x, y))\n",
    "\n",
    "def g(x, y):\n",
    "    return 2 * x + y\n",
    "\n",
    "def h(x):\n",
    "    x -= 3\n",
    "    return x\n",
    "\n",
    "# Function call\n",
    "print(f(2))"
   ]
  },
  {
   "cell_type": "code",
   "execution_count": 3,
   "metadata": {},
   "outputs": [
    {
     "name": "stdout",
     "output_type": "stream",
     "text": [
      "100\n"
     ]
    }
   ],
   "source": [
    "# Functions and Scopes <3>: return vs. print (1)\n",
    "\n",
    "def printSomething(x):\n",
    "    result = x * x\n",
    "    return result\n",
    "    \n",
    "print(printSomething(10))"
   ]
  },
  {
   "cell_type": "code",
   "execution_count": 4,
   "metadata": {},
   "outputs": [
    {
     "name": "stdout",
     "output_type": "stream",
     "text": [
      "Hello! I'm in isPositive function!\n",
      "True\n"
     ]
    }
   ],
   "source": [
    "# Functions and Scopes <4>: return vs. print (2)\n",
    "\n",
    "def isPositive(x):\n",
    "    print(\"Hello! I'm in isPositive function!\")\n",
    "    return (x > 0)\n",
    "    print(\"Goodbye!\")\n",
    "\n",
    "print(isPositive(3))"
   ]
  },
  {
   "cell_type": "code",
   "execution_count": 5,
   "metadata": {},
   "outputs": [
    {
     "name": "stdout",
     "output_type": "stream",
     "text": [
      "y(local):  3\n",
      "y(global):  10\n"
     ]
    }
   ],
   "source": [
    "# Functions and Scopes <5>: Variable Scope (1)\n",
    "\n",
    "y = 10\n",
    "\n",
    "def f(x):\n",
    "    y = 3\n",
    "    print(\"y(local): \", y)\n",
    "    return x - y\n",
    "\n",
    "def g(x):\n",
    "    return 2 * x\n",
    "\n",
    "f(9)\n",
    "print(\"y(global): \", y)"
   ]
  },
  {
   "cell_type": "code",
   "execution_count": 6,
   "metadata": {},
   "outputs": [
    {
     "name": "stdout",
     "output_type": "stream",
     "text": [
      "Before calling g():  10\n",
      "After calling g():  10\n",
      "Outside f():  25\n"
     ]
    }
   ],
   "source": [
    "# Functions and Scopes <6>: Variable Scope (2)\n",
    "\n",
    "def f():\n",
    "    x = 10\n",
    "    \n",
    "    def g():\n",
    "        global x\n",
    "        x = 25\n",
    "\n",
    "    print(\"Before calling g(): \", x)\n",
    "    g()\n",
    "    print(\"After calling g(): \", x)\n",
    "\n",
    "f()\n",
    "print(\"Outside f(): \", x)"
   ]
  },
  {
   "cell_type": "code",
   "execution_count": 7,
   "metadata": {},
   "outputs": [
    {
     "name": "stdout",
     "output_type": "stream",
     "text": [
      "inner:  nonlocal\n",
      "outer:  local\n"
     ]
    }
   ],
   "source": [
    "# Functions and Scopes <7>: Variable Scope (3)\n",
    "\n",
    "def outerFunc():\n",
    "    x = \"local\"\n",
    "\n",
    "    def innerFunc():\n",
    "#         nonlocal x\n",
    "        x = \"nonlocal\"\n",
    "        print(\"inner: \", x)\n",
    "    \n",
    "    innerFunc()\n",
    "    print(\"outer: \", x)\n",
    "\n",
    "outerFunc()"
   ]
  },
  {
   "cell_type": "code",
   "execution_count": 8,
   "metadata": {},
   "outputs": [
    {
     "name": "stdout",
     "output_type": "stream",
     "text": [
      "8\n",
      "8\n"
     ]
    }
   ],
   "source": [
    "# Functions and Scopes <8>: Anonymous (Lambda) Functions\n",
    "\n",
    "# Regular (named) function\n",
    "def powOfTwo(x):\n",
    "    return 2 ** x\n",
    "\n",
    "# Anonymous function (though it's binded to a vriable called powOfTwoLambda)\n",
    "powOfTwoLambda = lambda x: 2 ** x\n",
    "\n",
    "print(powOfTwo(3))\n",
    "print(powOfTwoLambda(3))"
   ]
  },
  {
   "cell_type": "code",
   "execution_count": 9,
   "metadata": {},
   "outputs": [
    {
     "name": "stdout",
     "output_type": "stream",
     "text": [
      "11\n"
     ]
    }
   ],
   "source": [
    "# Functions and Scopes <9>: Closure (1)\n",
    "\n",
    "def f1(x):\n",
    "    def f2(): return x + 1\n",
    "    return f2()\n",
    "\n",
    "print(f1(10))"
   ]
  },
  {
   "cell_type": "code",
   "execution_count": 10,
   "metadata": {},
   "outputs": [
    {
     "name": "stdout",
     "output_type": "stream",
     "text": [
      "<function f1.<locals>.f2 at 0x10251bc80>\n",
      "11\n"
     ]
    }
   ],
   "source": [
    "# Functions and Scopes <10>: Closure (2)\n",
    "\n",
    "# Outer function that returns a function\n",
    "def f1(x):\n",
    "    # Closure (inner function)\n",
    "    def f2(): return x + 1\n",
    "    return f2\n",
    "\n",
    "print(f1(10))\n",
    "print(f1(10)())"
   ]
  },
  {
   "cell_type": "code",
   "execution_count": 11,
   "metadata": {},
   "outputs": [
    {
     "name": "stdout",
     "output_type": "stream",
     "text": [
      "Hello, world!\n"
     ]
    }
   ],
   "source": [
    "# Functions and Scopes <11>: Closure (3)\n",
    "\n",
    "def printMsg(m):\n",
    "    def printer(): print(m)\n",
    "    return printer\n",
    "\n",
    "temp = printMsg(\"Hello, world!\")\n",
    "temp()"
   ]
  },
  {
   "cell_type": "code",
   "execution_count": 12,
   "metadata": {},
   "outputs": [
    {
     "name": "stdout",
     "output_type": "stream",
     "text": [
      "63\n",
      "10\n",
      "105\n"
     ]
    }
   ],
   "source": [
    "# Functions and Scopes <12>: Closure (4)\n",
    "\n",
    "def multiplierOf(n):\n",
    "    def multiplier(x):\n",
    "        return x * n\n",
    "    return multiplier\n",
    "\n",
    "times7 = multiplierOf(7)\n",
    "times5 = multiplierOf(5)\n",
    "\n",
    "print(times7(9))          # 9 * 7 = 63\n",
    "print(times5(2))          # 2 * 5 = 10\n",
    "print(times5(times7(3)))  # 3 * 7 * 5 = 105 "
   ]
  },
  {
   "cell_type": "code",
   "execution_count": 13,
   "metadata": {},
   "outputs": [
    {
     "name": "stdout",
     "output_type": "stream",
     "text": [
      "6\n",
      "8\n",
      "{'a': 'apple', 'b': 'banana', 'return': 'something'}\n",
      "apple\n"
     ]
    }
   ],
   "source": [
    "# Functions and Scopes <13>: Function Annotations\n",
    "\n",
    "def f(x: int, y: int = 3) -> int:\n",
    "    return x + y\n",
    "\n",
    "def g(a: \"apple\", b: \"banana\") -> \"something\":\n",
    "    return a * b\n",
    "\n",
    "print(f(3))\n",
    "print(f(3, 5))\n",
    "\n",
    "print(g.__annotations__)\n",
    "print(g.__annotations__[\"a\"])"
   ]
  },
  {
   "cell_type": "code",
   "execution_count": 14,
   "metadata": {},
   "outputs": [
    {
     "name": "stdout",
     "output_type": "stream",
     "text": [
      "1\n",
      "2\n",
      "3\n",
      "4\n"
     ]
    }
   ],
   "source": [
    "# Functions and Scopes <14>: Closure (5)\n",
    "\n",
    "def initializeCounter():\n",
    "    c = 0\n",
    "    \n",
    "    def counter():\n",
    "        nonlocal c\n",
    "        c += 1\n",
    "        return c\n",
    "    \n",
    "    return counter\n",
    "\n",
    "counter = initializeCounter()\n",
    "print(counter())\n",
    "print(counter())\n",
    "print(counter())\n",
    "print(counter())"
   ]
  }
 ],
 "metadata": {
  "kernelspec": {
   "display_name": "Python 3",
   "language": "python",
   "name": "python3"
  },
  "language_info": {
   "codemirror_mode": {
    "name": "ipython",
    "version": 3
   },
   "file_extension": ".py",
   "mimetype": "text/x-python",
   "name": "python",
   "nbconvert_exporter": "python",
   "pygments_lexer": "ipython3",
   "version": "3.6.4"
  }
 },
 "nbformat": 4,
 "nbformat_minor": 2
}
